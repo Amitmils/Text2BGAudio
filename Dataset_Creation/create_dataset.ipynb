{
 "cells": [
  {
   "cell_type": "code",
   "execution_count": null,
   "metadata": {},
   "outputs": [],
   "source": [
    "import torch\n",
    "import torchaudio\n",
    "import matplotlib.pyplot as plt\n",
    "import librosa\n",
    "import os\n",
    "from audio_segment import audio_segment"
   ]
  },
  {
   "cell_type": "markdown",
   "metadata": {},
   "source": [
    "### Music Dataset"
   ]
  },
  {
   "cell_type": "code",
   "execution_count": null,
   "metadata": {},
   "outputs": [],
   "source": [
    "music_data_raw_folder = r\"_Data/Music/raw\"\n",
    "save_folder = r\"_Data/Music\"\n",
    "SR = 8000"
   ]
  },
  {
   "cell_type": "code",
   "execution_count": null,
   "metadata": {},
   "outputs": [
    {
     "name": "stdout",
     "output_type": "stream",
     "text": [
      "Processing label:  Angry\n",
      "Added 120 segments for label Angry\n",
      "Processing label:  Joy\n",
      "Added 215 segments for label Joy\n",
      "Processing label:  Sad\n",
      "Added 154 segments for label Sad\n",
      "Processing label:  Scary\n",
      "Added 161 segments for label Scary\n"
     ]
    }
   ],
   "source": [
    "data_set = []\n",
    "for label in os.listdir(music_data_raw_folder):\n",
    "    curr_size = len(data_set)\n",
    "    print(\"Processing label: \", label)\n",
    "    label_folder_path = os.path.join(music_data_raw_folder, label)\n",
    "    for audio_file in os.listdir(label_folder_path):\n",
    "        audio_file_path = os.path.join(label_folder_path, audio_file)\n",
    "        waveform, orig_sample_rate = librosa.load(audio_file_path)\n",
    "        waveform = torch.tensor(waveform)\n",
    "        if orig_sample_rate != SR:\n",
    "            if orig_sample_rate < SR:\n",
    "                print(\n",
    "                    f\"Sample rate of {orig_sample_rate} is less than target sample rate {SR}. Skipping {audio_file_path}\"\n",
    "                )\n",
    "                raise\n",
    "            resampler = torchaudio.transforms.Resample(\n",
    "                orig_freq=orig_sample_rate, new_freq=SR\n",
    "            )\n",
    "            waveform = resampler(waveform)\n",
    "        segment_length = 10 * SR\n",
    "        batches = waveform.split(segment_length)\n",
    "        for batch_seg in batches:\n",
    "            if len(batch_seg) < segment_length:\n",
    "                continue\n",
    "            data_set.append(audio_segment(data=batch_seg, label=label, org_file=audio_file_path))\n",
    "    print(f\"Added {len(data_set) - curr_size} segments for label {label}\")\n",
    "\n"
   ]
  }
 ],
 "metadata": {
  "kernelspec": {
   "display_name": ".venv",
   "language": "python",
   "name": "python3"
  },
  "language_info": {
   "codemirror_mode": {
    "name": "ipython",
    "version": 3
   },
   "file_extension": ".py",
   "mimetype": "text/x-python",
   "name": "python",
   "nbconvert_exporter": "python",
   "pygments_lexer": "ipython3",
   "version": "3.11.9"
  }
 },
 "nbformat": 4,
 "nbformat_minor": 2
}
