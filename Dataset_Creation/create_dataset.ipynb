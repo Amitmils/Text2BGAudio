{
 "cells": [
  {
   "cell_type": "code",
   "execution_count": 63,
   "metadata": {},
   "outputs": [
    {
     "name": "stdout",
     "output_type": "stream",
     "text": [
      "working_dir='c:\\\\Users\\\\amitmils\\\\Documents\\\\Repo\\\\Text2BGAudio'\n"
     ]
    }
   ],
   "source": [
    "import torch\n",
    "import torchaudio\n",
    "import soundfile as sf\n",
    "import matplotlib.pyplot as plt\n",
    "import librosa\n",
    "import os\n",
    "from audio_dataset import audio_segment\n",
    "import numpy as np\n",
    "import random\n",
    "import pandas as pd\n",
    "from tqdm import tqdm\n",
    "from collections import Counter\n",
    "\n",
    "working_dir = os.path.join(os.getcwd().split('Text2BGAudio')[0],'Text2BGAudio')\n",
    "os.chdir(working_dir)\n",
    "print(f\"{working_dir=}\")"
   ]
  },
  {
   "cell_type": "code",
   "execution_count": 64,
   "metadata": {},
   "outputs": [
    {
     "name": "stdout",
     "output_type": "stream",
     "text": [
      "   dataset     label  count\n",
      "0     test     anger     60\n",
      "1     test      fear     52\n",
      "2     test       joy     95\n",
      "3     test      love     84\n",
      "4     test   sadness     65\n",
      "5     test  surprise     42\n",
      "6    train     anger    468\n",
      "7    train      fear    407\n",
      "8    train       joy    755\n",
      "9    train      love    668\n",
      "10   train   sadness    513\n",
      "11   train  surprise    330\n",
      "12     val     anger     58\n",
      "13     val      fear     50\n",
      "14     val       joy     94\n",
      "15     val      love     83\n",
      "16     val   sadness     64\n",
      "17     val  surprise     41\n"
     ]
    }
   ],
   "source": [
    "path_all_data = r\"_Data\\Music\\Music Data New\"\n",
    "train_ratio = 0.8\n",
    "val_ratio = 0.1\n",
    "test_ratio = 0.1\n",
    "\n",
    "data = list()\n",
    "for label in os.listdir(path_all_data):\n",
    "    if not os.path.isdir(os.path.join(path_all_data, label)):\n",
    "        continue\n",
    "    label_folder = os.path.join(path_all_data, label)\n",
    "    audio_files = [os.path.join(label_folder,f) for f in os.listdir(label_folder) if f.endswith('.wav')]\n",
    "    num_audios = len(audio_files)\n",
    "\n",
    "    num_for_train = int(train_ratio* num_audios)\n",
    "    num_for_val = int(val_ratio * num_audios)\n",
    "\n",
    "    random.shuffle(audio_files)\n",
    "    train_audios = audio_files[:num_for_train]\n",
    "    val_audios = audio_files[num_for_train:num_for_train+num_for_val]\n",
    "    test_audios = audio_files[num_for_train+num_for_val:]\n",
    "\n",
    "    for audio_List,dataset_name in zip([train_audios,val_audios,test_audios],['train','val','test']):\n",
    "        for audio in audio_List:\n",
    "            data.append({\"file_name\" : os.path.basename(audio).split('.')[0], \"label\": label.lower(), 'dataset' : dataset_name, \"file_path\" : audio})\n",
    "\n",
    "df = pd.DataFrame(data)\n",
    "df.to_csv(os.path.join(path_all_data,'train_val_test_split.csv'), index=False)\n",
    "counts = df.groupby(['dataset', 'label']).size().reset_index(name='count')\n",
    "print(counts)"
   ]
  },
  {
   "cell_type": "markdown",
   "metadata": {},
   "source": [
    "### Music Dataset"
   ]
  },
  {
   "cell_type": "code",
   "execution_count": 65,
   "metadata": {},
   "outputs": [
    {
     "name": "stderr",
     "output_type": "stream",
     "text": [
      "Loading audio files: 100%|██████████| 3929/3929 [00:18<00:00, 214.80it/s]\n"
     ]
    }
   ],
   "source": [
    "data_set = {\"train\" : [], \"val\" : [], \"test\" : []}\n",
    "for _,row in tqdm(df.iterrows(),desc=\"Loading audio files\",total=len(df), leave=True):\n",
    "   waveform, sr = librosa.load(row.file_path)\n",
    "   data_set[row.dataset].append((waveform.astype(np.float32),sr,row.label,row.file_path))\n",
    "\n",
    "len_str = \"_\".join([f\"{name}{len(data_set[dataset])}\" for name,dataset in zip(['tr','val','te'],data_set)])\n",
    "torch.save(data_set, os.path.join(path_all_data, f\"music_dataset_fixed_{os.path.basename(path_all_data)}_{len_str}.pt\"))"
   ]
  },
  {
   "cell_type": "code",
   "execution_count": 25,
   "metadata": {},
   "outputs": [
    {
     "name": "stdout",
     "output_type": "stream",
     "text": [
      "#######################\n",
      "Processing label: Angry\n",
      "Created 10 segments\n",
      "#######################\n",
      "\n",
      "\n",
      "#####################\n",
      "Processing label: Joy\n",
      "Created 2 segments\n",
      "#####################\n",
      "\n",
      "\n",
      "######################\n",
      "Processing label: Love\n",
      "Created 10 segments\n",
      "######################\n",
      "\n",
      "\n",
      "#####################\n",
      "Processing label: Sad\n",
      "Created 3 segments\n",
      "#####################\n",
      "\n",
      "\n",
      "#######################\n",
      "Processing label: Scary\n",
      "Created 4 segments\n",
      "#######################\n",
      "\n",
      "\n",
      "##########################\n",
      "Processing label: Surprise\n",
      "Created 10 segments\n",
      "##########################\n",
      "\n",
      "\n"
     ]
    }
   ],
   "source": [
    "data_set = []\n",
    "for label in os.listdir(music_data_raw_folder):\n",
    "    curr_size = len(data_set)\n",
    "    title = f\"Processing label: {label}\"\n",
    "    print(\"#\" * len(title))\n",
    "    print(title)\n",
    "    label_folder_path = os.path.join(music_data_raw_folder, label)\n",
    "    for audio_file in os.listdir(label_folder_path):\n",
    "        audio_file_path = os.path.join(label_folder_path, audio_file)\n",
    "        waveform, orig_sample_rate = librosa.load(audio_file_path)\n",
    "        waveform = torch.tensor(waveform)\n",
    "        if SR != orig_sample_rate:\n",
    "            waveform = torchaudio.transforms.Resample(orig_sample_rate, SR)(waveform)\n",
    "        segment_length = 10 * SR\n",
    "        batches = waveform.split(segment_length)\n",
    "        for batch_seg in batches:\n",
    "            if len(batch_seg) < segment_length:\n",
    "                continue\n",
    "            data_set.append((batch_seg.numpy().astype(np.float32),SR,label,audio_file_path))\n",
    "    print(f\"Created {len(data_set) - curr_size} segments\")\n",
    "    print(\"#\" * len(title)  + \"\\n\\n\")\n",
    "\n",
    "torch.save(data_set, os.path.join(save_folder, f\"music_dataset_{os.path.basename(music_data_raw_folder)}_size{len(data_set)}.pt\"))"
   ]
  },
  {
   "cell_type": "code",
   "execution_count": 14,
   "metadata": {},
   "outputs": [
    {
     "name": "stdout",
     "output_type": "stream",
     "text": [
      "#######################\n",
      "Processing label: Angry\n",
      "Created 1131 segments\n",
      "#######################\n",
      "\n",
      "\n",
      "#####################\n",
      "Processing label: Joy\n",
      "Created 1662 segments\n",
      "#####################\n",
      "\n",
      "\n",
      "######################\n",
      "Processing label: Love\n",
      "Created 1939 segments\n",
      "######################\n",
      "\n",
      "\n",
      "#####################\n",
      "Processing label: Sad\n",
      "Created 1233 segments\n",
      "#####################\n",
      "\n",
      "\n",
      "#######################\n",
      "Processing label: Scary\n",
      "Created 1231 segments\n",
      "#######################\n",
      "\n",
      "\n",
      "##########################\n",
      "Processing label: Surprise\n",
      "Created 360 segments\n",
      "##########################\n",
      "\n",
      "\n"
     ]
    }
   ],
   "source": [
    "data_set = []\n",
    "output_folder = r\"_Data/Music/train_segments\"\n",
    "for label in os.listdir(music_data_raw_folder):\n",
    "    num_segments = 0\n",
    "    title = f\"Processing label: {label}\"\n",
    "    print(\"#\" * len(title))\n",
    "    print(title)\n",
    "    label_folder_path = os.path.join(music_data_raw_folder, label)\n",
    "    output_label_folder = os.path.join(output_folder, label)\n",
    "    for audio_file in os.listdir(label_folder_path):\n",
    "        audio_file_path = os.path.join(label_folder_path, audio_file)\n",
    "        waveform, orig_sample_rate = librosa.load(audio_file_path)\n",
    "        waveform = torch.tensor(waveform)\n",
    "        if SR != orig_sample_rate:\n",
    "            waveform = torchaudio.transforms.Resample(orig_sample_rate, SR)(waveform)\n",
    "        segment_length = 10 * SR\n",
    "        batches = waveform.split(segment_length)\n",
    "\n",
    "        for i,batch_seg in enumerate(batches):\n",
    "            if len(batch_seg) < segment_length:\n",
    "                continue\n",
    "            segment_name = os.path.join(output_label_folder,f\"{audio_file.split('.')[0]}_{i}.wav\")\n",
    "            os.makedirs(output_label_folder, exist_ok=True)\n",
    "            sf.write(segment_name, batch_seg.numpy().astype(np.float32), SR)\n",
    "        num_segments+=i+1\n",
    "    print(f\"Created {num_segments} segments\")\n",
    "    print(\"#\" * len(title)  + \"\\n\\n\")\n"
   ]
  },
  {
   "cell_type": "code",
   "execution_count": 16,
   "metadata": {},
   "outputs": [],
   "source": [
    "import pandas as pd\n",
    "import os\n",
    "import random\n"
   ]
  },
  {
   "cell_type": "code",
   "execution_count": 23,
   "metadata": {},
   "outputs": [],
   "source": [
    "data_tsv = list()\n",
    "for root, dirs, files in os.walk(r\"C:\\Users\\amitmils\\Documents\\Repo\\Text2BGAudio\\_Data\\Music\\train_segments\"):\n",
    "    for file in files:\n",
    "        data_tsv.append(\n",
    "            {\n",
    "                \"name\": file.split(\".\")[0],\n",
    "                \"dataset\": \"MoodAudio\",\n",
    "                \"caption\": os.path.basename(root).lower(),\n",
    "                \"audio_path\": os.path.join(\"/content/drive/MyDrive/Colab Notebooks/AmitM/Make-An-Audio/data\",root.split('Music\\\\')[-1], file).replace('\\\\','/'),\n",
    "            }\n",
    "        )\n",
    "random.shuffle(data_tsv)\n",
    "df = pd.DataFrame(data_tsv)\n",
    "df.to_csv(r\"C:\\Users\\amitmils\\Documents\\Repo\\Text2BGAudio\\_Data\\Music\\train_segments.tsv\", sep=\"\\t\", index=False)"
   ]
  }
 ],
 "metadata": {
  "kernelspec": {
   "display_name": ".venv",
   "language": "python",
   "name": "python3"
  },
  "language_info": {
   "codemirror_mode": {
    "name": "ipython",
    "version": 3
   },
   "file_extension": ".py",
   "mimetype": "text/x-python",
   "name": "python",
   "nbconvert_exporter": "python",
   "pygments_lexer": "ipython3",
   "version": "3.12.8"
  }
 },
 "nbformat": 4,
 "nbformat_minor": 2
}
