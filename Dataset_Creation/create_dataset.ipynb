{
 "cells": [
  {
   "cell_type": "code",
   "execution_count": null,
   "metadata": {},
   "outputs": [],
   "source": [
    "import torch\n",
    "import torchaudio\n",
    "import matplotlib.pyplot as plt\n",
    "import librosa\n",
    "import os\n",
    "from audio_dataset import audio_segment\n",
    "os.chdir(r\"C:\\Users\\owner\\Documents\\Repos\\Text2BGAudio\")"
   ]
  },
  {
   "cell_type": "markdown",
   "metadata": {},
   "source": [
    "### Music Dataset"
   ]
  },
  {
   "cell_type": "code",
   "execution_count": 8,
   "metadata": {},
   "outputs": [],
   "source": [
    "music_data_raw_folder = r\"_Data/Music/raw\"\n",
    "save_folder = r\"_Data/Music\"\n",
    "SR = 8000"
   ]
  },
  {
   "cell_type": "code",
   "execution_count": 12,
   "metadata": {},
   "outputs": [
    {
     "name": "stdout",
     "output_type": "stream",
     "text": [
      "#######################\n",
      "Processing label: Angry\n",
      "Created 120 segments\n",
      "#######################\n",
      "\n",
      "\n",
      "#####################\n",
      "Processing label: Joy\n",
      "Created 215 segments\n",
      "#####################\n",
      "\n",
      "\n",
      "#####################\n",
      "Processing label: Sad\n",
      "Created 154 segments\n",
      "#####################\n",
      "\n",
      "\n",
      "#######################\n",
      "Processing label: Scary\n",
      "Created 161 segments\n",
      "#######################\n",
      "\n",
      "\n"
     ]
    }
   ],
   "source": [
    "data_set = []\n",
    "for label in os.listdir(music_data_raw_folder):\n",
    "    curr_size = len(data_set)\n",
    "    title = f\"Processing label: {label}\"\n",
    "    print(\"#\" * len(title))\n",
    "    print(title)\n",
    "    label_folder_path = os.path.join(music_data_raw_folder, label)\n",
    "    for audio_file in os.listdir(label_folder_path):\n",
    "        audio_file_path = os.path.join(label_folder_path, audio_file)\n",
    "        waveform, orig_sample_rate = librosa.load(audio_file_path)\n",
    "        waveform = torch.tensor(waveform)\n",
    "        if orig_sample_rate != SR:\n",
    "            if orig_sample_rate < SR:\n",
    "                print(\n",
    "                    f\"Sample rate of {orig_sample_rate} is less than target sample rate {SR}. Skipping {audio_file_path}\"\n",
    "                )\n",
    "                raise\n",
    "            resampler = torchaudio.transforms.Resample(\n",
    "                orig_freq=orig_sample_rate, new_freq=SR\n",
    "            )\n",
    "            waveform = resampler(waveform)\n",
    "        segment_length = 10 * SR\n",
    "        batches = waveform.split(segment_length)\n",
    "        for batch_seg in batches:\n",
    "            if len(batch_seg) < segment_length:\n",
    "                continue\n",
    "            data_set.append(audio_segment(data=batch_seg, label=label, org_file=audio_file_path))\n",
    "    print(f\"Created {len(data_set) - curr_size} segments\")\n",
    "    print(\"#\" * len(title)  + \"\\n\\n\")\n",
    "\n",
    "torch.save(data_set, os.path.join(save_folder, f\"music_dataset_size{len(data_set)}_SR_{SR}.pt\"))"
   ]
  }
 ],
 "metadata": {
  "kernelspec": {
   "display_name": ".venv",
   "language": "python",
   "name": "python3"
  },
  "language_info": {
   "codemirror_mode": {
    "name": "ipython",
    "version": 3
   },
   "file_extension": ".py",
   "mimetype": "text/x-python",
   "name": "python",
   "nbconvert_exporter": "python",
   "pygments_lexer": "ipython3",
   "version": "3.11.9"
  }
 },
 "nbformat": 4,
 "nbformat_minor": 2
}
