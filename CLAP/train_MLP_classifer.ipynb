{
 "cells": [
  {
   "cell_type": "code",
   "execution_count": 68,
   "metadata": {},
   "outputs": [
    {
     "name": "stdout",
     "output_type": "stream",
     "text": [
      "Device Name: NVIDIA GeForce RTX 4080 SUPER\n"
     ]
    }
   ],
   "source": [
    "import os\n",
    "import sys\n",
    "working_dir = os.path.join(os.getcwd().split(\"Text2BGAudio\")[0],'Text2BGAudio')\n",
    "sys.path.append(working_dir)\n",
    "os.chdir(working_dir)\n",
    "from datasets import load_dataset\n",
    "from transformers import ClapModel, ClapProcessor\n",
    "import torch\n",
    "import matplotlib.pyplot as plt\n",
    "import torch.nn.functional as F\n",
    "from collections import Counter,defaultdict\n",
    "from tqdm import tqdm\n",
    "from Dataset_Creation import audio_dataset\n",
    "from torch.utils.data import DataLoader,Dataset\n",
    "import matplotlib.pyplot as plt\n",
    "\n",
    "if torch.cuda.is_available():\n",
    "    DEVICE = torch.device(\"cuda:0\")\n",
    "    print(\"Device Name:\", torch.cuda.get_device_name(DEVICE))\n",
    "else:\n",
    "    DEVICE = torch.device(\"cpu\")\n",
    "    print(\"Device Name: CPU\")\n",
    "\n",
    "CLAP_ARCH = \"laion/larger_clap_music\"\n"
   ]
  },
  {
   "cell_type": "code",
   "execution_count": 46,
   "metadata": {},
   "outputs": [],
   "source": [
    "class EmbeddedDataset(Dataset):\n",
    "    def __init__(self, embedded_data):\n",
    "        self.embedded_data = embedded_data\n",
    "    def __len__(self):\n",
    "        return len(self.embedded_data)\n",
    "    def __getitem__(self, idx):\n",
    "        x,y= self.embedded_data[idx]\n",
    "        return x,y\n",
    "\n",
    "criterion = torch.nn.CrossEntropyLoss()\n",
    "class MLPHead(torch.nn.Module):\n",
    "    def __init__(self, input_dim=512, output_dim=6, hidden_dim=256):\n",
    "        super(MLPHead, self).__init__()\n",
    "        self.mlp = torch.nn.Sequential(\n",
    "            torch.nn.Linear(input_dim, hidden_dim),\n",
    "            torch.nn.ReLU(),\n",
    "            torch.nn.Linear(hidden_dim, output_dim),\n",
    "            torch.nn.Softmax(dim=1)\n",
    "        )\n",
    "    \n",
    "    def forward(self, x):\n",
    "        return self.mlp(x)"
   ]
  },
  {
   "cell_type": "code",
   "execution_count": null,
   "metadata": {},
   "outputs": [],
   "source": [
    "label_to_index  = {'Angry' : 0, 'Joy' : 1, 'Love' : 2, 'Sad' : 3, 'Scary' : 4, 'Surprise' : 5}\n",
    "index_to_label = {v: k for k, v in label_to_index.items()}\n",
    "\n",
    "def create_embedded_ds(ds_path,model_path = None,return_indexed=True):\n",
    "    model_name = os.path.basename(model_path).split('.')[0] if model_path is not None else 'classic'\n",
    "    model_output_folder = os.path.join(os.path.dirname(ds_path),'embedded_datasets',model_name)\n",
    "    os.makedirs(model_output_folder,exist_ok=True)\n",
    "    embedded_ds_path = os.path.join(model_output_folder,os.path.basename(ds_path).split('.')[0] + \"_embedded.pt\")\n",
    "    if os.path.isfile(embedded_ds_path):\n",
    "        print(f\"Loading Embedded Dataset {os.path.basename(embedded_ds_path)} w/ {model_name} clap_model\")\n",
    "        embedded_data = torch.load(embedded_ds_path,weights_only=False)\n",
    "    else:\n",
    "        print(f\"Creating Embedded Dataset {os.path.basename(embedded_ds_path)} w/ {model_name} clap_model\")\n",
    "        dataset = audio_dataset.AudioDataset(ds_path)\n",
    "        data_loader = DataLoader(dataset, batch_size=32, shuffle=True)\n",
    "\n",
    "        clap_model = ClapModel.from_pretrained(CLAP_ARCH).to(DEVICE)\n",
    "        processor = ClapProcessor.from_pretrained(CLAP_ARCH)\n",
    "        if model_path is not None:\n",
    "            clap_model.load_state_dict(torch.load(model_path,weights_only=False)['model_state_dict'])\n",
    "\n",
    "        embedded_data =list()\n",
    "        with torch.no_grad():\n",
    "            for batch in tqdm(data_loader,desc=\"Batches\"):\n",
    "                audio = batch[0]\n",
    "                labels = list(batch[1])\n",
    "                unique_labels = list(set(labels))\n",
    "                inputs = processor(\n",
    "                    text=unique_labels,\n",
    "                    audios=audio.numpy(),\n",
    "                    return_tensors=\"pt\",\n",
    "                    sampling_rate=48000,\n",
    "                    padding=True,\n",
    "                )\n",
    "                inputs = {k: v.to(DEVICE) for k, v in inputs.items()}\n",
    "                outputs = clap_model(**inputs)\n",
    "                audio_embeds = outputs.audio_embeds\n",
    "                embedded_data.extend([(audio_embed.cpu().detach(), label) for audio_embed, label in zip(audio_embeds, labels)])\n",
    "        torch.save(embedded_data,embedded_ds_path)\n",
    "    if return_indexed:\n",
    "        embedded_data_indexed = [(audio_embed.cpu().detach(), label_to_index[label]) for audio_embed, label in embedded_data]\n",
    "        return EmbeddedDataset(embedded_data_indexed)"
   ]
  },
  {
   "cell_type": "code",
   "execution_count": 64,
   "metadata": {},
   "outputs": [
    {
     "name": "stdout",
     "output_type": "stream",
     "text": [
      "Creating Embedded Dataset music_dataset_train_size7507_embedded.pt\n"
     ]
    },
    {
     "name": "stderr",
     "output_type": "stream",
     "text": [
      "Batches: 100%|██████████| 235/235 [02:12<00:00,  1.78it/s]\n"
     ]
    },
    {
     "name": "stdout",
     "output_type": "stream",
     "text": [
      "Creating Embedded Dataset music_dataset_test_size39_embedded.pt\n"
     ]
    },
    {
     "name": "stderr",
     "output_type": "stream",
     "text": [
      "Batches: 100%|██████████| 2/2 [00:00<00:00,  2.10it/s]\n"
     ]
    }
   ],
   "source": [
    "model_path = r\"CLAP\\models\\clap_fine_tunned_BatchSize_32_LR_1e-05_Epochs_50_LOSS_27.06.pt\"\n",
    "train_dataset_path = r\"_Data\\Music\\music_dataset_train_size7507.pt\"\n",
    "val_dataset_path = r\"_Data\\Music\\music_dataset_test_size39.pt\"\n",
    "train_dataset = create_embedded_ds(train_dataset_path,model_path)\n",
    "val_dataset = create_embedded_ds(val_dataset_path,model_path)"
   ]
  },
  {
   "cell_type": "code",
   "execution_count": 65,
   "metadata": {},
   "outputs": [
    {
     "name": "stdout",
     "output_type": "stream",
     "text": [
      "Epoch 1/100, Loss: 1.3198498487472534, Train Acc : 0.7016118289596377 , Val Acc : 0.41025641025641024\n",
      "Epoch 2/100, Loss: 1.2796038389205933, Train Acc : 0.7675502863993606 , Val Acc : 0.48717948717948717\n",
      "Epoch 3/100, Loss: 1.2783114910125732, Train Acc : 0.8067137338484082 , Val Acc : 0.6666666666666666\n",
      "Epoch 4/100, Loss: 1.2508524656295776, Train Acc : 0.8161715731983482 , Val Acc : 0.6666666666666666\n",
      "Epoch 5/100, Loss: 1.2115737199783325, Train Acc : 0.8200346343412814 , Val Acc : 0.6666666666666666\n",
      "Epoch 6/100, Loss: 1.1572918891906738, Train Acc : 0.8233648594644998 , Val Acc : 0.6666666666666666\n",
      "Epoch 7/100, Loss: 1.2704182863235474, Train Acc : 0.8254962035433595 , Val Acc : 0.6666666666666666\n",
      "Epoch 8/100, Loss: 1.1960431337356567, Train Acc : 0.8234980684694285 , Val Acc : 0.6666666666666666\n",
      "Epoch 9/100, Loss: 1.1591846942901611, Train Acc : 0.8280271746370055 , Val Acc : 0.6666666666666666\n",
      "Epoch 10/100, Loss: 1.2510610818862915, Train Acc : 0.8285600106567204 , Val Acc : 0.6666666666666666\n",
      "Epoch 11/100, Loss: 1.2420212030410767, Train Acc : 0.8301585187158652 , Val Acc : 0.6666666666666666\n",
      "Epoch 12/100, Loss: 1.1765187978744507, Train Acc : 0.8312241907552951 , Val Acc : 0.6923076923076923\n",
      "Epoch 13/100, Loss: 1.1738852262496948, Train Acc : 0.8320234447848674 , Val Acc : 0.6923076923076923\n",
      "Epoch 14/100, Loss: 1.2327594757080078, Train Acc : 0.8324230717996537 , Val Acc : 0.6923076923076923\n",
      "Epoch 15/100, Loss: 1.1566932201385498, Train Acc : 0.8349540428932996 , Val Acc : 0.6923076923076923\n",
      "Epoch 16/100, Loss: 1.2130393981933594, Train Acc : 0.8356200879179433 , Val Acc : 0.6923076923076923\n",
      "Epoch 17/100, Loss: 1.1539900302886963, Train Acc : 0.8336219528440123 , Val Acc : 0.6923076923076923\n",
      "Epoch 18/100, Loss: 1.2083115577697754, Train Acc : 0.8360197149327294 , Val Acc : 0.6923076923076923\n",
      "Epoch 19/100, Loss: 1.2996360063552856, Train Acc : 0.8373518049820168 , Val Acc : 0.6923076923076923\n",
      "Epoch 20/100, Loss: 1.2134134769439697, Train Acc : 0.8360197149327294 , Val Acc : 0.6923076923076923\n",
      "Epoch 21/100, Loss: 1.177105188369751, Train Acc : 0.8381510590115892 , Val Acc : 0.6923076923076923\n",
      "Epoch 22/100, Loss: 1.1787662506103516, Train Acc : 0.8388171040362329 , Val Acc : 0.6923076923076923\n",
      "Epoch 23/100, Loss: 1.2060470581054688, Train Acc : 0.839749567070734 , Val Acc : 0.6923076923076923\n",
      "Epoch 24/100, Loss: 1.2139686346054077, Train Acc : 0.8390835220460903 , Val Acc : 0.6923076923076923\n",
      "Epoch 25/100, Loss: 1.2926521301269531, Train Acc : 0.8408152391101639 , Val Acc : 0.6923076923076923\n",
      "Epoch 26/100, Loss: 1.1876174211502075, Train Acc : 0.8402824030904489 , Val Acc : 0.6923076923076923\n",
      "Epoch 27/100, Loss: 1.258531928062439, Train Acc : 0.844278673238311 , Val Acc : 0.6923076923076923\n",
      "Epoch 28/100, Loss: 1.1624486446380615, Train Acc : 0.8436126282136672 , Val Acc : 0.6923076923076923\n",
      "Epoch 29/100, Loss: 1.2466471195220947, Train Acc : 0.8436126282136672 , Val Acc : 0.6923076923076923\n",
      "Epoch 30/100, Loss: 1.159192442893982, Train Acc : 0.8460103903023845 , Val Acc : 0.6666666666666666\n",
      "Epoch 31/100, Loss: 1.150797724723816, Train Acc : 0.8468096443319568 , Val Acc : 0.6923076923076923\n",
      "Epoch 32/100, Loss: 1.2237814664840698, Train Acc : 0.8469428533368856 , Val Acc : 0.6666666666666666\n",
      "Epoch 33/100, Loss: 1.2604013681411743, Train Acc : 0.8460103903023845 , Val Acc : 0.6410256410256411\n",
      "Epoch 34/100, Loss: 1.1702651977539062, Train Acc : 0.8480085253763154 , Val Acc : 0.6410256410256411\n",
      "Epoch 35/100, Loss: 1.2026513814926147, Train Acc : 0.8488077794058878 , Val Acc : 0.6666666666666666\n",
      "Epoch 36/100, Loss: 1.174038290977478, Train Acc : 0.849207406420674 , Val Acc : 0.6666666666666666\n",
      "Epoch 37/100, Loss: 1.1997100114822388, Train Acc : 0.8488077794058878 , Val Acc : 0.6923076923076923\n",
      "Epoch 38/100, Loss: 1.1643699407577515, Train Acc : 0.8502730784601039 , Val Acc : 0.6153846153846154\n",
      "Epoch 39/100, Loss: 1.1583518981933594, Train Acc : 0.8502730784601039 , Val Acc : 0.6410256410256411\n",
      "Epoch 40/100, Loss: 1.149804949760437, Train Acc : 0.8518715865192487 , Val Acc : 0.6410256410256411\n",
      "Epoch 41/100, Loss: 1.194939374923706, Train Acc : 0.8534700945783935 , Val Acc : 0.6153846153846154\n",
      "Epoch 42/100, Loss: 1.1230252981185913, Train Acc : 0.855201811642467 , Val Acc : 0.6153846153846154\n",
      "Epoch 43/100, Loss: 1.1911282539367676, Train Acc : 0.8548021846276809 , Val Acc : 0.6153846153846154\n",
      "Epoch 44/100, Loss: 1.2022221088409424, Train Acc : 0.8558678566671107 , Val Acc : 0.6153846153846154\n",
      "Epoch 45/100, Loss: 1.1997554302215576, Train Acc : 0.8562674836818969 , Val Acc : 0.6153846153846154\n",
      "Epoch 46/100, Loss: 1.206764578819275, Train Acc : 0.857199946716398 , Val Acc : 0.6153846153846154\n",
      "Epoch 47/100, Loss: 1.2316718101501465, Train Acc : 0.8590648727854003 , Val Acc : 0.6153846153846154\n",
      "Epoch 48/100, Loss: 1.1986043453216553, Train Acc : 0.8585320367656853 , Val Acc : 0.6153846153846154\n",
      "Epoch 49/100, Loss: 1.2183454036712646, Train Acc : 0.8602637538297588 , Val Acc : 0.6153846153846154\n",
      "Epoch 50/100, Loss: 1.1344166994094849, Train Acc : 0.8583988277607566 , Val Acc : 0.6153846153846154\n",
      "Epoch 51/100, Loss: 1.2204217910766602, Train Acc : 0.8605301718396163 , Val Acc : 0.6153846153846154\n",
      "Epoch 52/100, Loss: 1.2420768737792969, Train Acc : 0.8626615159184761 , Val Acc : 0.6153846153846154\n",
      "Epoch 53/100, Loss: 1.144295334815979, Train Acc : 0.8626615159184761 , Val Acc : 0.6153846153846154\n",
      "Epoch 54/100, Loss: 1.1682547330856323, Train Acc : 0.8634607699480484 , Val Acc : 0.5897435897435898\n",
      "Epoch 55/100, Loss: 1.199265956878662, Train Acc : 0.8638603969628347 , Val Acc : 0.6153846153846154\n",
      "Epoch 56/100, Loss: 1.1590683460235596, Train Acc : 0.8655921140269082 , Val Acc : 0.6153846153846154\n",
      "Epoch 57/100, Loss: 1.1875919103622437, Train Acc : 0.8649260690022645 , Val Acc : 0.6153846153846154\n",
      "Epoch 58/100, Loss: 1.1895710229873657, Train Acc : 0.8665245770614094 , Val Acc : 0.6153846153846154\n",
      "Epoch 59/100, Loss: 1.2033169269561768, Train Acc : 0.8678566671106966 , Val Acc : 0.6153846153846154\n",
      "Epoch 60/100, Loss: 1.1624510288238525, Train Acc : 0.8658585320367657 , Val Acc : 0.6153846153846154\n",
      "Epoch 61/100, Loss: 1.1830825805664062, Train Acc : 0.8685227121353404 , Val Acc : 0.6153846153846154\n",
      "Epoch 62/100, Loss: 1.1890820264816284, Train Acc : 0.8682562941254829 , Val Acc : 0.6153846153846154\n",
      "Epoch 63/100, Loss: 1.1829386949539185, Train Acc : 0.8679898761156254 , Val Acc : 0.6153846153846154\n",
      "Epoch 64/100, Loss: 1.2722128629684448, Train Acc : 0.8687891301451978 , Val Acc : 0.6410256410256411\n",
      "Epoch 65/100, Loss: 1.1689796447753906, Train Acc : 0.8702544291994139 , Val Acc : 0.6153846153846154\n",
      "Epoch 66/100, Loss: 1.172244668006897, Train Acc : 0.8686559211402691 , Val Acc : 0.6153846153846154\n",
      "Epoch 67/100, Loss: 1.2120752334594727, Train Acc : 0.8689223391501265 , Val Acc : 0.5897435897435898\n",
      "Epoch 68/100, Loss: 1.150431752204895, Train Acc : 0.8695883841747702 , Val Acc : 0.6153846153846154\n",
      "Epoch 69/100, Loss: 1.225943922996521, Train Acc : 0.8698548021846276 , Val Acc : 0.6153846153846154\n",
      "Epoch 70/100, Loss: 1.1612714529037476, Train Acc : 0.8705208472092714 , Val Acc : 0.6410256410256411\n",
      "Epoch 71/100, Loss: 1.1627814769744873, Train Acc : 0.8701212201944851 , Val Acc : 0.6153846153846154\n",
      "Epoch 72/100, Loss: 1.1914950609207153, Train Acc : 0.8726521912881311 , Val Acc : 0.5897435897435898\n",
      "Epoch 73/100, Loss: 1.2227859497070312, Train Acc : 0.8714533102437725 , Val Acc : 0.6153846153846154\n",
      "Epoch 74/100, Loss: 1.156941533088684, Train Acc : 0.8723857732782736 , Val Acc : 0.6153846153846154\n",
      "Epoch 75/100, Loss: 1.147875428199768, Train Acc : 0.8727854002930598 , Val Acc : 0.6153846153846154\n",
      "Epoch 76/100, Loss: 1.2403194904327393, Train Acc : 0.873185027307846 , Val Acc : 0.6153846153846154\n",
      "Epoch 77/100, Loss: 1.191641092300415, Train Acc : 0.8729186092979886 , Val Acc : 0.6410256410256411\n",
      "Epoch 78/100, Loss: 1.2269783020019531, Train Acc : 0.8727854002930598 , Val Acc : 0.6153846153846154\n",
      "Epoch 79/100, Loss: 1.230498194694519, Train Acc : 0.8763820434261356 , Val Acc : 0.6153846153846154\n",
      "Epoch 80/100, Loss: 1.188810110092163, Train Acc : 0.875183162381777 , Val Acc : 0.6153846153846154\n",
      "Epoch 81/100, Loss: 1.1435532569885254, Train Acc : 0.8761156254162782 , Val Acc : 0.6410256410256411\n",
      "Epoch 82/100, Loss: 1.2064077854156494, Train Acc : 0.8761156254162782 , Val Acc : 0.6153846153846154\n",
      "Epoch 83/100, Loss: 1.1810312271118164, Train Acc : 0.8763820434261356 , Val Acc : 0.6153846153846154\n",
      "Epoch 84/100, Loss: 1.1585224866867065, Train Acc : 0.8761156254162782 , Val Acc : 0.6410256410256411\n",
      "Epoch 85/100, Loss: 1.1345831155776978, Train Acc : 0.8765152524310643 , Val Acc : 0.6153846153846154\n",
      "Epoch 86/100, Loss: 1.1672027111053467, Train Acc : 0.8747835353669908 , Val Acc : 0.5897435897435898\n",
      "Epoch 87/100, Loss: 1.1764360666275024, Train Acc : 0.8763820434261356 , Val Acc : 0.6153846153846154\n",
      "Epoch 88/100, Loss: 1.1679372787475586, Train Acc : 0.8781137604902092 , Val Acc : 0.6153846153846154\n",
      "Epoch 89/100, Loss: 1.1625089645385742, Train Acc : 0.8770480884507793 , Val Acc : 0.6410256410256411\n",
      "Epoch 90/100, Loss: 1.157516598701477, Train Acc : 0.8790462235247103 , Val Acc : 0.6410256410256411\n",
      "Epoch 91/100, Loss: 1.161280632019043, Train Acc : 0.8807779405887838 , Val Acc : 0.6410256410256411\n",
      "Epoch 92/100, Loss: 1.138318419456482, Train Acc : 0.8805115225789263 , Val Acc : 0.6410256410256411\n",
      "Epoch 93/100, Loss: 1.1734665632247925, Train Acc : 0.8795790595444252 , Val Acc : 0.6410256410256411\n",
      "Epoch 94/100, Loss: 1.1994379758834839, Train Acc : 0.8819768216331424 , Val Acc : 0.6410256410256411\n",
      "Epoch 95/100, Loss: 1.2020273208618164, Train Acc : 0.8790462235247103 , Val Acc : 0.6410256410256411\n",
      "Epoch 96/100, Loss: 1.1429681777954102, Train Acc : 0.8807779405887838 , Val Acc : 0.6410256410256411\n",
      "Epoch 97/100, Loss: 1.1948403120040894, Train Acc : 0.8815771946183562 , Val Acc : 0.6153846153846154\n",
      "Epoch 98/100, Loss: 1.2322229146957397, Train Acc : 0.8807779405887838 , Val Acc : 0.6153846153846154\n",
      "Epoch 99/100, Loss: 1.1419013738632202, Train Acc : 0.8813107766084988 , Val Acc : 0.6410256410256411\n",
      "Epoch 100/100, Loss: 1.1205520629882812, Train Acc : 0.8821100306380711 , Val Acc : 0.6410256410256411\n"
     ]
    },
    {
     "data": {
      "text/plain": [
       "Text(0, 0.5, 'Accuracy')"
      ]
     },
     "execution_count": 65,
     "metadata": {},
     "output_type": "execute_result"
    },
    {
     "data": {
      "image/png": "[encoded data removed]",
      "text/plain": [
       "<Figure size 640x480 with 1 Axes>"
      ]
     },
     "metadata": {},
     "output_type": "display_data"
    }
   ],
   "source": [
    "batch_size = 128\n",
    "epochs = 100\n",
    "train_data_loader = DataLoader(train_dataset, batch_size=batch_size, shuffle=True)\n",
    "val_data_loader = DataLoader(val_dataset, batch_size=len(val_dataset), shuffle=True)\n",
    "\n",
    "classification_head = MLPHead().to(DEVICE)\n",
    "optimizer = torch.optim.Adam(classification_head.parameters(), lr=5e-4)\n",
    "\n",
    "train_acc = list()\n",
    "val_acc = list()\n",
    "for e in range(epochs):\n",
    "    train_correct = 0\n",
    "    for batch in train_data_loader:\n",
    "        audio_embeds, labels = batch\n",
    "        audio_embeds = audio_embeds.to(DEVICE)\n",
    "        labels = labels.to(DEVICE)\n",
    "        \n",
    "        optimizer.zero_grad()\n",
    "        outputs = classification_head(audio_embeds)\n",
    "        est_classification = torch.argmax(outputs, dim=1)\n",
    "        train_correct += torch.sum(est_classification == labels).item()\n",
    "        loss = criterion(outputs, labels)\n",
    "        loss.backward()\n",
    "        optimizer.step()\n",
    "    train_acc.append(train_correct/len(train_dataset))\n",
    "    with torch.no_grad():\n",
    "        val_correct = 0\n",
    "        for batch in val_data_loader:\n",
    "            audio_embeds, labels = batch\n",
    "            # audio_embeds = F.normalize(audio_embeds, p=2, dim=1)\n",
    "            audio_embeds = audio_embeds.to(DEVICE)\n",
    "            labels = labels.to(DEVICE)\n",
    "            outputs = classification_head(audio_embeds)\n",
    "            est_classification = torch.argmax(outputs, dim=1)\n",
    "            val_correct += torch.sum(est_classification == labels).item()\n",
    "        val_acc.append(val_correct/len(val_dataset))\n",
    "    print(f\"Epoch {e+1}/{epochs}, Loss: {loss.item()}, Train Acc : {train_acc[-1]} , Val Acc : {val_acc[-1]}\")\n",
    "\n",
    "plt.plot(range(epochs), train_acc, label='Train Accuracy')\n",
    "plt.plot(range(epochs), val_acc, label='Validation Accuracy')\n",
    "plt.legend()\n",
    "plt.xlabel('Epoch')\n",
    "plt.ylabel('Accuracy')\n"
   ]
  },
  {
   "cell_type": "markdown",
   "metadata": {},
   "source": [
    "### Train CLAP and MLP together"
   ]
  },
  {
   "cell_type": "code",
   "execution_count": 75,
   "metadata": {},
   "outputs": [],
   "source": [
    "train_dataset_path = r\"_Data\\Music\\music_dataset_train_size7507.pt\"\n",
    "val_dataset_path = r\"_Data\\Music\\music_dataset_test_size39.pt\"\n",
    "train_dataset  = audio_dataset.AudioDataset(train_dataset_path)\n",
    "val_dataset = audio_dataset.AudioDataset(val_dataset_path)"
   ]
  },
  {
   "cell_type": "code",
   "execution_count": 80,
   "metadata": {},
   "outputs": [],
   "source": [
    "train_data_loader = DataLoader(train_dataset, batch_size=batch_size, shuffle=True)\n",
    "val_data_loader = DataLoader(val_dataset, batch_size=len(val_dataset), shuffle=True)"
   ]
  },
  {
   "cell_type": "code",
   "execution_count": null,
   "metadata": {},
   "outputs": [
    {
     "name": "stderr",
     "output_type": "stream",
     "text": [
      "Batches: 100%|██████████| 59/59 [02:14<00:00,  2.27s/it]\n"
     ]
    },
    {
     "name": "stdout",
     "output_type": "stream",
     "text": [
      "Epoch 1/50, Loss: 1.312929391860962, Train Acc : 0.8821100306380711 , Val Acc : 0.6410256410256411\n",
      "\n"
     ]
    },
    {
     "name": "stderr",
     "output_type": "stream",
     "text": [
      "Batches: 100%|██████████| 59/59 [02:17<00:00,  2.34s/it]\n"
     ]
    },
    {
     "name": "stdout",
     "output_type": "stream",
     "text": [
      "Epoch 2/50, Loss: 1.2479959726333618, Train Acc : 0.8821100306380711 , Val Acc : 0.6410256410256411\n",
      "\n"
     ]
    },
    {
     "name": "stderr",
     "output_type": "stream",
     "text": [
      "Batches:   2%|▏         | 1/59 [00:04<04:35,  4.75s/it]\n"
     ]
    },
    {
     "ename": "KeyboardInterrupt",
     "evalue": "",
     "output_type": "error",
     "traceback": [
      "\u001b[1;31m---------------------------------------------------------------------------\u001b[0m",
      "\u001b[1;31mKeyboardInterrupt\u001b[0m                         Traceback (most recent call last)",
      "Cell \u001b[1;32mIn[90], line 47\u001b[0m\n\u001b[0;32m     45\u001b[0m outputs \u001b[38;5;241m=\u001b[39m MLP_HEAD(audio_embeds)\n\u001b[0;32m     46\u001b[0m est_classification \u001b[38;5;241m=\u001b[39m torch\u001b[38;5;241m.\u001b[39margmax(outputs, dim\u001b[38;5;241m=\u001b[39m\u001b[38;5;241m1\u001b[39m)\n\u001b[1;32m---> 47\u001b[0m train_correct \u001b[38;5;241m+\u001b[39m\u001b[38;5;241m=\u001b[39m torch\u001b[38;5;241m.\u001b[39msum(est_classification \u001b[38;5;241m==\u001b[39m \u001b[43mtorch\u001b[49m\u001b[38;5;241;43m.\u001b[39;49m\u001b[43mtensor\u001b[49m\u001b[43m(\u001b[49m\u001b[43m[\u001b[49m\u001b[43mlabel_to_index\u001b[49m\u001b[43m[\u001b[49m\u001b[43mlabel\u001b[49m\u001b[43m]\u001b[49m\u001b[43m \u001b[49m\u001b[38;5;28;43;01mfor\u001b[39;49;00m\u001b[43m \u001b[49m\u001b[43mlabel\u001b[49m\u001b[43m \u001b[49m\u001b[38;5;129;43;01min\u001b[39;49;00m\u001b[43m \u001b[49m\u001b[43mtrain_labels\u001b[49m\u001b[43m]\u001b[49m\u001b[43m)\u001b[49m\u001b[38;5;241;43m.\u001b[39;49m\u001b[43mto\u001b[49m\u001b[43m(\u001b[49m\u001b[43mDEVICE\u001b[49m\u001b[43m)\u001b[49m)\u001b[38;5;241m.\u001b[39mitem()\n\u001b[0;32m     48\u001b[0m loss \u001b[38;5;241m=\u001b[39m criterion(outputs, torch\u001b[38;5;241m.\u001b[39mtensor([label_to_index[label] \u001b[38;5;28;01mfor\u001b[39;00m label \u001b[38;5;129;01min\u001b[39;00m train_labels])\u001b[38;5;241m.\u001b[39mto(DEVICE))\n\u001b[0;32m     49\u001b[0m optimizer\u001b[38;5;241m.\u001b[39mzero_grad()\n",
      "\u001b[1;31mKeyboardInterrupt\u001b[0m: "
     ]
    }
   ],
   "source": [
    "\n",
    "# Load the model and processor\n",
    "clap_model_path = r\"CLAP\\models\\clap_fine_tunned_BatchSize_32_LR_1e-05_Epochs_50_LOSS_27.06.pt\"\n",
    "processor = ClapProcessor.from_pretrained(CLAP_ARCH)\n",
    "clap_model = ClapModel.from_pretrained(CLAP_ARCH).to(DEVICE)\n",
    "clap_model.load_state_dict(torch.load(clap_model_path, weights_only=False)['model_state_dict'])\n",
    "\n",
    "# Initialize the MLP head\n",
    "MLP_HEAD = MLPHead().to(DEVICE)\n",
    "for param in clap_model.parameters():\n",
    "    param.requires_grad = False\n",
    "# Unfreeze audio projection heads\n",
    "for param in clap_model.audio_projection.parameters():\n",
    "    param.requires_grad = True\n",
    "\n",
    "# Hyperparameters\n",
    "epochs = 50\n",
    "batch_size = 128\n",
    "lr = 1e-5\n",
    "\n",
    "# Data loaders\n",
    "train_data_loader = DataLoader(train_dataset, batch_size=batch_size, shuffle=True)\n",
    "val_data_loader = DataLoader(val_dataset, batch_size=len(val_dataset), shuffle=True)\n",
    "\n",
    "# Optimizer\n",
    "optimizer = torch.optim.AdamW(\n",
    "    [\n",
    "        {'params': clap_model.parameters(), 'lr': 1e-5},\n",
    "        {'params': MLP_HEAD.parameters(), 'lr': 1e-3}\n",
    "    ]\n",
    ")\n",
    "\n",
    "# Criterion\n",
    "criterion = torch.nn.CrossEntropyLoss()\n",
    "\n",
    "# Accuracy lists\n",
    "acc_list = {\"train\": [], \"val\": []}\n",
    "\n",
    "# Training loop\n",
    "for e in range(epochs):\n",
    "    clap_model.train()\n",
    "    MLP_HEAD.train()\n",
    "    train_correct = 0\n",
    "    total_loss = 0\n",
    "    for batch in tqdm(train_data_loader, desc=\"Batches\"):\n",
    "        audio = batch[0]\n",
    "        train_labels = list(batch[1])\n",
    "        unique_labels = train_labels[:1]  # Not needed for inference\n",
    "        inputs = processor(\n",
    "            text=unique_labels,\n",
    "            audios=audio.numpy(),\n",
    "            return_tensors=\"pt\",\n",
    "            sampling_rate=48000,\n",
    "            padding=True,\n",
    "        )\n",
    "        inputs = {k: v.to(DEVICE) for k, v in inputs.items()}\n",
    "        outputs = clap_model(**inputs)\n",
    "        audio_embeds = outputs.audio_embeds\n",
    "        outputs = MLP_HEAD(audio_embeds)\n",
    "        est_classification = torch.argmax(outputs, dim=1)\n",
    "        train_correct += torch.sum(est_classification == torch.tensor([label_to_index[label] for label in train_labels]).to(DEVICE)).item()\n",
    "        loss = criterion(outputs, torch.tensor([label_to_index[label] for label in train_labels]).to(DEVICE))\n",
    "        total_loss += loss.item()\n",
    "        optimizer.zero_grad()\n",
    "        loss.backward()\n",
    "        optimizer.step()\n",
    "    train_acc = train_correct / len(train_dataset)\n",
    "    acc_list['train'].append(train_acc)\n",
    "    \n",
    "    clap_model.eval()\n",
    "    MLP_HEAD.eval()\n",
    "    val_correct = 0\n",
    "    with torch.no_grad():\n",
    "        for batch in val_data_loader:\n",
    "            audio = batch[0]\n",
    "            val_labels = list(batch[1])\n",
    "            unique_labels = val_labels[:1]\n",
    "            inputs = processor(\n",
    "                text=unique_labels,\n",
    "                audios=audio.numpy(),\n",
    "                return_tensors=\"pt\",\n",
    "                sampling_rate=48000,\n",
    "                padding=True,\n",
    "            )\n",
    "            inputs = {k: v.to(DEVICE) for k, v in inputs.items()}\n",
    "            outputs = clap_model(**inputs)\n",
    "            audio_embeds = outputs.audio_embeds\n",
    "            outputs = MLP_HEAD(audio_embeds)\n",
    "            est_classification = torch.argmax(outputs, dim=1)\n",
    "            val_correct += torch.sum(est_classification == torch.tensor([label_to_index[label] for label in val_labels]).to(DEVICE)).item()\n",
    "    val_acc = val_correct / len(val_dataset)\n",
    "    acc_list['val'].append(val_acc)\n",
    "    \n",
    "    print(f\"Epoch {e+1}/{epochs}, Loss: {total_loss / len(train_data_loader)}, Train Acc: {train_acc}, Val Acc: {val_acc}\")\n",
    "\n",
    "# Print final accuracies\n",
    "print(\"Final Training Accuracy:\", acc_list['train'][-1])\n",
    "print(\"Final Validation Accuracy:\", acc_list['val'][-1])"
   ]
  }
 ],
 "metadata": {
  "kernelspec": {
   "display_name": ".venv",
   "language": "python",
   "name": "python3"
  },
  "language_info": {
   "codemirror_mode": {
    "name": "ipython",
    "version": 3
   },
   "file_extension": ".py",
   "mimetype": "text/x-python",
   "name": "python",
   "nbconvert_exporter": "python",
   "pygments_lexer": "ipython3",
   "version": "3.12.8"
  }
 },
 "nbformat": 4,
 "nbformat_minor": 2
}
