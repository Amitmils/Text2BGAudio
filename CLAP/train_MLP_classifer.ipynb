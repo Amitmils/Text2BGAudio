{
 "cells": [
  {
   "cell_type": "code",
   "execution_count": 1,
   "metadata": {},
   "outputs": [
    {
     "name": "stderr",
     "output_type": "stream",
     "text": [
      "c:\\Users\\amitmils\\Documents\\Repo\\Text2BGAudio\\.venv\\Lib\\site-packages\\tqdm\\auto.py:21: TqdmWarning: IProgress not found. Please update jupyter and ipywidgets. See https://ipywidgets.readthedocs.io/en/stable/user_install.html\n",
      "  from .autonotebook import tqdm as notebook_tqdm\n"
     ]
    },
    {
     "name": "stdout",
     "output_type": "stream",
     "text": [
      "Device Name: NVIDIA GeForce RTX 4080 SUPER\n"
     ]
    }
   ],
   "source": [
    "import os\n",
    "import sys\n",
    "working_dir = os.path.join(os.getcwd().split(\"Text2BGAudio\")[0],'Text2BGAudio')\n",
    "sys.path.append(working_dir)\n",
    "os.chdir(working_dir)\n",
    "from datasets import load_dataset\n",
    "from transformers import ClapModel, ClapProcessor\n",
    "import torch\n",
    "import matplotlib.pyplot as plt\n",
    "import torch.nn.functional as F\n",
    "from collections import Counter,defaultdict\n",
    "from tqdm import tqdm\n",
    "from Dataset_Creation import audio_dataset\n",
    "from torch.utils.data import DataLoader,Dataset\n",
    "import matplotlib.pyplot as plt\n",
    "\n",
    "if torch.cuda.is_available():\n",
    "    DEVICE = torch.device(\"cuda:0\")\n",
    "    print(\"Device Name:\", torch.cuda.get_device_name(DEVICE))\n",
    "else:\n",
    "    DEVICE = torch.device(\"cpu\")\n",
    "    print(\"Device Name: CPU\")\n",
    "\n",
    "CLAP_ARCH = \"laion/larger_clap_music\"\n"
   ]
  },
  {
   "cell_type": "code",
   "execution_count": 12,
   "metadata": {},
   "outputs": [],
   "source": [
    "class EmbeddedDataset(Dataset):\n",
    "    def __init__(self, embedded_data):\n",
    "        self.embedded_data = embedded_data\n",
    "    def __len__(self):\n",
    "        return len(self.embedded_data)\n",
    "    def __getitem__(self, idx):\n",
    "        x,y= self.embedded_data[idx]\n",
    "        return x,y\n",
    "\n",
    "criterion = torch.nn.CrossEntropyLoss()\n",
    "class MLPHead(torch.nn.Module):\n",
    "    def __init__(self, input_dim=512, output_dim=6, hidden_dim=256):\n",
    "        super(MLPHead, self).__init__()\n",
    "        self.mlp = torch.nn.Sequential(\n",
    "            torch.nn.Linear(input_dim, hidden_dim),\n",
    "            torch.nn.ReLU(),\n",
    "            torch.nn.Linear(hidden_dim, output_dim),\n",
    "            torch.nn.Softmax(dim=1)\n",
    "        )\n",
    "    \n",
    "    def forward(self, x):\n",
    "        return self.mlp(x)\n",
    "    \n",
    "label_to_index  = {'anger' : 0, 'joy' : 1, 'love' : 2, 'sadness' : 3, 'fear' : 4, 'surprise' : 5}\n",
    "index_to_label = {v: k for k, v in label_to_index.items()}"
   ]
  },
  {
   "cell_type": "code",
   "execution_count": 20,
   "metadata": {},
   "outputs": [],
   "source": [
    "def create_embedded_ds_v2(dataset,clap_model,processor):\n",
    "    embedded_data = list()\n",
    "    with torch.no_grad():\n",
    "        data_loader = DataLoader(dataset, batch_size=32, shuffle=True)\n",
    "        for batch in tqdm(data_loader,desc=\"Batches\"):\n",
    "            audio = batch[0]\n",
    "            labels = list(batch[1])\n",
    "            unique_labels = list(set(labels))\n",
    "            inputs = processor(\n",
    "                text=unique_labels,\n",
    "                audios=audio.numpy(),\n",
    "                return_tensors=\"pt\",\n",
    "                sampling_rate=48000,\n",
    "                padding=True,\n",
    "            )\n",
    "            inputs = {k: v.to(DEVICE) for k, v in inputs.items()}\n",
    "            outputs = clap_model(**inputs)\n",
    "            audio_embeds = outputs.audio_embeds\n",
    "            embedded_data.extend([(audio_embed.cpu().detach(), label_to_index[label]) for audio_embed, label in zip(audio_embeds, labels)])\n",
    "    return EmbeddedDataset(embedded_data)"
   ]
  },
  {
   "cell_type": "markdown",
   "metadata": {},
   "source": [
    "## Load Data"
   ]
  },
  {
   "cell_type": "code",
   "execution_count": null,
   "metadata": {},
   "outputs": [],
   "source": [
    "dataset_path = r\"_Data\\Music\\Music Data New\\music_dataset_test_Music Data New_tr3204_val398_te405.pt\"\n",
    "train_data, val_data, test_data = list(torch.load(dataset_path, weights_only=False).values())\n",
    "train_dataset = audio_dataset.AudioDataset(train_data)\n",
    "val_dataset = audio_dataset.AudioDataset(val_data)"
   ]
  },
  {
   "cell_type": "markdown",
   "metadata": {},
   "source": [
    "## Train MLP Head on CLAP"
   ]
  },
  {
   "cell_type": "markdown",
   "metadata": {},
   "source": [
    "### Create embedded DS"
   ]
  },
  {
   "cell_type": "code",
   "execution_count": null,
   "metadata": {},
   "outputs": [],
   "source": [
    "clap_model_path = r\"CLAP\\models\\clap_fine_tunned_BatchSize_32_LR_1e-05_Epochs_400_VAL_LOSS_25.99.pt\"\n",
    "clap_model = ClapModel.from_pretrained(CLAP_ARCH).to(DEVICE)\n",
    "processor = ClapProcessor.from_pretrained(CLAP_ARCH)\n",
    "if clap_model_path is not None:\n",
    "    clap_model.load_state_dict(torch.load(clap_model_path,weights_only=False)['model_state_dict'])"
   ]
  },
  {
   "cell_type": "code",
   "execution_count": null,
   "metadata": {},
   "outputs": [
    {
     "name": "stderr",
     "output_type": "stream",
     "text": [
      "Batches: 100%|██████████| 101/101 [00:55<00:00,  1.83it/s]\n",
      "Batches: 100%|██████████| 13/13 [00:06<00:00,  1.92it/s]\n"
     ]
    }
   ],
   "source": [
    "train_dataset_embedded = create_embedded_ds_v2(train_dataset,clap_model,processor)\n",
    "val_dataset_embedded = create_embedded_ds_v2(val_dataset,clap_model,processor)\n"
   ]
  },
  {
   "cell_type": "markdown",
   "metadata": {},
   "source": [
    "### Train HEAD"
   ]
  },
  {
   "cell_type": "code",
   "execution_count": 19,
   "metadata": {},
   "outputs": [
    {
     "name": "stdout",
     "output_type": "stream",
     "text": [
      "Epoch 1/100, Loss: 1.368591070175171, Train Acc : 0.9144818976279651 , Val Acc : 0.7211055276381909\n",
      "Epoch 2/100, Loss: 1.301470160484314, Train Acc : 0.9847066167290887 , Val Acc : 0.7311557788944724\n",
      "Epoch 3/100, Loss: 1.0498682260513306, Train Acc : 0.985330836454432 , Val Acc : 0.7386934673366834\n",
      "Epoch 4/100, Loss: 1.045634150505066, Train Acc : 0.9856429463171036 , Val Acc : 0.7386934673366834\n",
      "Epoch 5/100, Loss: 1.0744826793670654, Train Acc : 0.985330836454432 , Val Acc : 0.7361809045226131\n",
      "Epoch 6/100, Loss: 1.047248363494873, Train Acc : 0.9847066167290887 , Val Acc : 0.7361809045226131\n",
      "Epoch 7/100, Loss: 1.0440610647201538, Train Acc : 0.985330836454432 , Val Acc : 0.7311557788944724\n",
      "Epoch 8/100, Loss: 1.0444449186325073, Train Acc : 0.985330836454432 , Val Acc : 0.7336683417085427\n",
      "Epoch 9/100, Loss: 1.0449918508529663, Train Acc : 0.9859550561797753 , Val Acc : 0.7311557788944724\n",
      "Epoch 10/100, Loss: 1.0444515943527222, Train Acc : 0.9856429463171036 , Val Acc : 0.7311557788944724\n",
      "Epoch 11/100, Loss: 1.0493552684783936, Train Acc : 0.9859550561797753 , Val Acc : 0.7311557788944724\n",
      "Epoch 12/100, Loss: 1.0438926219940186, Train Acc : 0.9862671660424469 , Val Acc : 0.7336683417085427\n",
      "Epoch 13/100, Loss: 1.0437697172164917, Train Acc : 0.9862671660424469 , Val Acc : 0.7336683417085427\n",
      "Epoch 14/100, Loss: 1.043705940246582, Train Acc : 0.9865792759051186 , Val Acc : 0.7311557788944724\n",
      "Epoch 15/100, Loss: 1.0437023639678955, Train Acc : 0.9865792759051186 , Val Acc : 0.7311557788944724\n",
      "Epoch 16/100, Loss: 1.0438824892044067, Train Acc : 0.9865792759051186 , Val Acc : 0.7286432160804021\n",
      "Epoch 17/100, Loss: 1.0442066192626953, Train Acc : 0.9862671660424469 , Val Acc : 0.7286432160804021\n",
      "Epoch 18/100, Loss: 1.0436756610870361, Train Acc : 0.9865792759051186 , Val Acc : 0.7311557788944724\n",
      "Epoch 19/100, Loss: 1.0436354875564575, Train Acc : 0.9865792759051186 , Val Acc : 0.7286432160804021\n",
      "Epoch 20/100, Loss: 1.0439655780792236, Train Acc : 0.9865792759051186 , Val Acc : 0.7311557788944724\n",
      "Epoch 21/100, Loss: 1.0443512201309204, Train Acc : 0.9868913857677902 , Val Acc : 0.7286432160804021\n",
      "Epoch 22/100, Loss: 1.04378342628479, Train Acc : 0.9865792759051186 , Val Acc : 0.7286432160804021\n",
      "Epoch 23/100, Loss: 1.2256063222885132, Train Acc : 0.9875156054931336 , Val Acc : 0.7211055276381909\n",
      "Epoch 24/100, Loss: 1.0437672138214111, Train Acc : 0.983458177278402 , Val Acc : 0.7311557788944724\n",
      "Epoch 25/100, Loss: 1.043770670890808, Train Acc : 0.9868913857677902 , Val Acc : 0.7261306532663316\n",
      "Epoch 26/100, Loss: 1.0489009618759155, Train Acc : 0.9878277153558053 , Val Acc : 0.7236180904522613\n",
      "Epoch 27/100, Loss: 1.1731029748916626, Train Acc : 0.987203495630462 , Val Acc : 0.7336683417085427\n",
      "Epoch 28/100, Loss: 1.0435981750488281, Train Acc : 0.9856429463171036 , Val Acc : 0.7311557788944724\n",
      "Epoch 29/100, Loss: 1.0482332706451416, Train Acc : 0.9859550561797753 , Val Acc : 0.7336683417085427\n",
      "Epoch 30/100, Loss: 1.0481120347976685, Train Acc : 0.9859550561797753 , Val Acc : 0.7286432160804021\n",
      "Epoch 31/100, Loss: 1.0436105728149414, Train Acc : 0.987203495630462 , Val Acc : 0.7286432160804021\n",
      "Epoch 32/100, Loss: 1.0836800336837769, Train Acc : 0.9875156054931336 , Val Acc : 0.7286432160804021\n",
      "Epoch 33/100, Loss: 1.2935616970062256, Train Acc : 0.9859550561797753 , Val Acc : 0.7286432160804021\n",
      "Epoch 34/100, Loss: 1.0438530445098877, Train Acc : 0.9862671660424469 , Val Acc : 0.7261306532663316\n",
      "Epoch 35/100, Loss: 1.0436677932739258, Train Acc : 0.9865792759051186 , Val Acc : 0.7261306532663316\n",
      "Epoch 36/100, Loss: 1.043774127960205, Train Acc : 0.9868913857677902 , Val Acc : 0.7236180904522613\n",
      "Epoch 37/100, Loss: 1.044295310974121, Train Acc : 0.987203495630462 , Val Acc : 0.7236180904522613\n",
      "Epoch 38/100, Loss: 1.054450273513794, Train Acc : 0.9875156054931336 , Val Acc : 0.7211055276381909\n",
      "Epoch 39/100, Loss: 1.0436196327209473, Train Acc : 0.987203495630462 , Val Acc : 0.7236180904522613\n",
      "Epoch 40/100, Loss: 1.0435985326766968, Train Acc : 0.9878277153558053 , Val Acc : 0.7261306532663316\n",
      "Epoch 41/100, Loss: 1.0435991287231445, Train Acc : 0.9884519350811486 , Val Acc : 0.7236180904522613\n",
      "Epoch 42/100, Loss: 1.0435949563980103, Train Acc : 0.9878277153558053 , Val Acc : 0.7261306532663316\n",
      "Epoch 43/100, Loss: 1.0436370372772217, Train Acc : 0.9881398252184769 , Val Acc : 0.7236180904522613\n",
      "Epoch 44/100, Loss: 1.0436124801635742, Train Acc : 0.9884519350811486 , Val Acc : 0.7236180904522613\n",
      "Epoch 45/100, Loss: 1.0436149835586548, Train Acc : 0.9884519350811486 , Val Acc : 0.7211055276381909\n",
      "Epoch 46/100, Loss: 1.0437555313110352, Train Acc : 0.9881398252184769 , Val Acc : 0.7236180904522613\n",
      "Epoch 47/100, Loss: 1.088512659072876, Train Acc : 0.9881398252184769 , Val Acc : 0.7236180904522613\n",
      "Epoch 48/100, Loss: 1.2920974493026733, Train Acc : 0.9878277153558053 , Val Acc : 0.7311557788944724\n",
      "Epoch 49/100, Loss: 1.0435951948165894, Train Acc : 0.9875156054931336 , Val Acc : 0.7286432160804021\n",
      "Epoch 50/100, Loss: 1.0435967445373535, Train Acc : 0.9875156054931336 , Val Acc : 0.7236180904522613\n",
      "Epoch 51/100, Loss: 1.0436396598815918, Train Acc : 0.987203495630462 , Val Acc : 0.7261306532663316\n",
      "Epoch 52/100, Loss: 1.043593168258667, Train Acc : 0.9875156054931336 , Val Acc : 0.7236180904522613\n",
      "Epoch 53/100, Loss: 1.043604850769043, Train Acc : 0.9875156054931336 , Val Acc : 0.7236180904522613\n",
      "Epoch 54/100, Loss: 1.0436289310455322, Train Acc : 0.9881398252184769 , Val Acc : 0.7211055276381909\n",
      "Epoch 55/100, Loss: 1.0435943603515625, Train Acc : 0.9881398252184769 , Val Acc : 0.7236180904522613\n",
      "Epoch 56/100, Loss: 1.043592929840088, Train Acc : 0.9884519350811486 , Val Acc : 0.7185929648241206\n",
      "Epoch 57/100, Loss: 1.0435924530029297, Train Acc : 0.9884519350811486 , Val Acc : 0.7211055276381909\n",
      "Epoch 58/100, Loss: 1.0436079502105713, Train Acc : 0.9884519350811486 , Val Acc : 0.7261306532663316\n",
      "Epoch 59/100, Loss: 1.0438464879989624, Train Acc : 0.9878277153558053 , Val Acc : 0.7286432160804021\n",
      "Epoch 60/100, Loss: 1.0436041355133057, Train Acc : 0.9881398252184769 , Val Acc : 0.7286432160804021\n",
      "Epoch 61/100, Loss: 1.0437664985656738, Train Acc : 0.9884519350811486 , Val Acc : 0.7286432160804021\n",
      "Epoch 62/100, Loss: 1.0436124801635742, Train Acc : 0.9881398252184769 , Val Acc : 0.7261306532663316\n",
      "Epoch 63/100, Loss: 1.0436012744903564, Train Acc : 0.9884519350811486 , Val Acc : 0.7261306532663316\n",
      "Epoch 64/100, Loss: 1.0435930490493774, Train Acc : 0.9884519350811486 , Val Acc : 0.7261306532663316\n",
      "Epoch 65/100, Loss: 1.0435926914215088, Train Acc : 0.9878277153558053 , Val Acc : 0.7261306532663316\n",
      "Epoch 66/100, Loss: 1.0933715105056763, Train Acc : 0.9881398252184769 , Val Acc : 0.7236180904522613\n",
      "Epoch 67/100, Loss: 1.0436091423034668, Train Acc : 0.9868913857677902 , Val Acc : 0.7286432160804021\n",
      "Epoch 68/100, Loss: 1.0436009168624878, Train Acc : 0.9862671660424469 , Val Acc : 0.7286432160804021\n",
      "Epoch 69/100, Loss: 1.043605923652649, Train Acc : 0.9875156054931336 , Val Acc : 0.7261306532663316\n",
      "Epoch 70/100, Loss: 1.0435980558395386, Train Acc : 0.9878277153558053 , Val Acc : 0.7261306532663316\n",
      "Epoch 71/100, Loss: 1.043592095375061, Train Acc : 0.9881398252184769 , Val Acc : 0.7261306532663316\n",
      "Epoch 72/100, Loss: 1.0435956716537476, Train Acc : 0.9878277153558053 , Val Acc : 0.7236180904522613\n",
      "Epoch 73/100, Loss: 1.0435922145843506, Train Acc : 0.9884519350811486 , Val Acc : 0.7236180904522613\n",
      "Epoch 74/100, Loss: 1.0435932874679565, Train Acc : 0.9887640449438202 , Val Acc : 0.7236180904522613\n",
      "Epoch 75/100, Loss: 1.043595552444458, Train Acc : 0.9884519350811486 , Val Acc : 0.7236180904522613\n",
      "Epoch 76/100, Loss: 1.0436071157455444, Train Acc : 0.9887640449438202 , Val Acc : 0.7236180904522613\n",
      "Epoch 77/100, Loss: 1.0435924530029297, Train Acc : 0.9887640449438202 , Val Acc : 0.7236180904522613\n",
      "Epoch 78/100, Loss: 1.0436065196990967, Train Acc : 0.9890761548064919 , Val Acc : 0.7236180904522613\n",
      "Epoch 79/100, Loss: 1.0435919761657715, Train Acc : 0.9887640449438202 , Val Acc : 0.7236180904522613\n",
      "Epoch 80/100, Loss: 1.0435923337936401, Train Acc : 0.9884519350811486 , Val Acc : 0.7236180904522613\n",
      "Epoch 81/100, Loss: 1.043654441833496, Train Acc : 0.9887640449438202 , Val Acc : 0.7185929648241206\n",
      "Epoch 82/100, Loss: 1.0435963869094849, Train Acc : 0.9887640449438202 , Val Acc : 0.7236180904522613\n",
      "Epoch 83/100, Loss: 1.0435926914215088, Train Acc : 0.9887640449438202 , Val Acc : 0.7236180904522613\n",
      "Epoch 84/100, Loss: 1.0435919761657715, Train Acc : 0.9887640449438202 , Val Acc : 0.7236180904522613\n",
      "Epoch 85/100, Loss: 1.043597936630249, Train Acc : 0.9887640449438202 , Val Acc : 0.7261306532663316\n",
      "Epoch 86/100, Loss: 1.043594479560852, Train Acc : 0.9887640449438202 , Val Acc : 0.7261306532663316\n",
      "Epoch 87/100, Loss: 1.0435923337936401, Train Acc : 0.9887640449438202 , Val Acc : 0.7261306532663316\n",
      "Epoch 88/100, Loss: 1.0435924530029297, Train Acc : 0.9887640449438202 , Val Acc : 0.7236180904522613\n",
      "Epoch 89/100, Loss: 1.0436019897460938, Train Acc : 0.9890761548064919 , Val Acc : 0.7236180904522613\n",
      "Epoch 90/100, Loss: 1.0435949563980103, Train Acc : 0.9887640449438202 , Val Acc : 0.7236180904522613\n",
      "Epoch 91/100, Loss: 1.043595790863037, Train Acc : 0.9890761548064919 , Val Acc : 0.7261306532663316\n",
      "Epoch 92/100, Loss: 1.0435935258865356, Train Acc : 0.9887640449438202 , Val Acc : 0.7261306532663316\n",
      "Epoch 93/100, Loss: 1.0435925722122192, Train Acc : 0.9887640449438202 , Val Acc : 0.7236180904522613\n",
      "Epoch 94/100, Loss: 1.0435922145843506, Train Acc : 0.9890761548064919 , Val Acc : 0.7236180904522613\n",
      "Epoch 95/100, Loss: 1.0435919761657715, Train Acc : 0.9890761548064919 , Val Acc : 0.7261306532663316\n",
      "Epoch 96/100, Loss: 1.0437079668045044, Train Acc : 0.9884519350811486 , Val Acc : 0.7236180904522613\n",
      "Epoch 97/100, Loss: 1.0437036752700806, Train Acc : 0.9890761548064919 , Val Acc : 0.7236180904522613\n",
      "Epoch 98/100, Loss: 1.0435924530029297, Train Acc : 0.9890761548064919 , Val Acc : 0.7211055276381909\n",
      "Epoch 99/100, Loss: 1.0435922145843506, Train Acc : 0.9884519350811486 , Val Acc : 0.7211055276381909\n",
      "Epoch 100/100, Loss: 1.0438337326049805, Train Acc : 0.9890761548064919 , Val Acc : 0.7236180904522613\n"
     ]
    },
    {
     "data": {
      "text/plain": [
       "Text(0, 0.5, 'Accuracy')"
      ]
     },
     "execution_count": 19,
     "metadata": {},
     "output_type": "execute_result"
    },
    {
     "data": {
      "image/png": "[encoded data removed]",
      "text/plain": [
       "<Figure size 640x480 with 1 Axes>"
      ]
     },
     "metadata": {},
     "output_type": "display_data"
    }
   ],
   "source": [
    "batch_size = 128\n",
    "epochs = 100\n",
    "train_data_loader = DataLoader(train_dataset_embedded, batch_size=batch_size, shuffle=True)\n",
    "val_data_loader = DataLoader(val_dataset_embedded, batch_size=batch_size, shuffle=True)\n",
    "\n",
    "classification_head = MLPHead().to(DEVICE)\n",
    "optimizer = torch.optim.Adam(classification_head.parameters(), lr=1e-3)\n",
    "\n",
    "train_acc = list()\n",
    "val_acc = list()\n",
    "for e in range(epochs):\n",
    "    train_correct = 0\n",
    "    for batch in train_data_loader:\n",
    "        audio_embeds, labels = batch\n",
    "        audio_embeds = audio_embeds.to(DEVICE)\n",
    "        labels = labels.to(DEVICE)\n",
    "        optimizer.zero_grad()\n",
    "        outputs = classification_head(audio_embeds)\n",
    "        est_classification = torch.argmax(outputs, dim=1)\n",
    "        train_correct += torch.sum(est_classification == labels).item()\n",
    "        loss = criterion(outputs, labels)\n",
    "        loss.backward()\n",
    "        optimizer.step()\n",
    "    train_acc.append(train_correct/len(train_dataset))\n",
    "    with torch.no_grad():\n",
    "        val_correct = 0\n",
    "        for batch in val_data_loader:\n",
    "            audio_embeds, labels = batch\n",
    "            audio_embeds = audio_embeds.to(DEVICE)\n",
    "            labels = labels.to(DEVICE)\n",
    "            outputs = classification_head(audio_embeds)\n",
    "            est_classification = torch.argmax(outputs, dim=1)\n",
    "            val_correct += torch.sum(est_classification == labels).item()\n",
    "        val_acc.append(val_correct/len(val_dataset))\n",
    "    print(f\"Epoch {e+1}/{epochs}, Loss: {loss.item()}, Train Acc : {train_acc[-1]} , Val Acc : {val_acc[-1]}\")\n",
    "\n",
    "plt.plot(range(epochs), train_acc, label='Train Accuracy')\n",
    "plt.plot(range(epochs), val_acc, label='Validation Accuracy')\n",
    "plt.legend()\n",
    "plt.xlabel('Epoch')\n",
    "plt.ylabel('Accuracy')\n"
   ]
  },
  {
   "cell_type": "markdown",
   "metadata": {},
   "source": [
    "### Train CLAP and MLP together"
   ]
  },
  {
   "cell_type": "code",
   "execution_count": 9,
   "metadata": {},
   "outputs": [],
   "source": [
    "train_data, val_data, test_data = list(torch.load(r\"_Data\\Music\\Music Data New\\music_dataset_test_Music Data New_tr3204_val398_te405.pt\", weights_only=False).values())\n",
    "train_dataset = audio_dataset.AudioDataset(train_data)\n",
    "val_dataset = audio_dataset.AudioDataset(val_data)"
   ]
  },
  {
   "cell_type": "code",
   "execution_count": 11,
   "metadata": {},
   "outputs": [
    {
     "name": "stderr",
     "output_type": "stream",
     "text": [
      "Train Batches: 100%|██████████| 26/26 [01:00<00:00,  2.32s/it]\n",
      "Val Batches: 100%|██████████| 4/4 [00:07<00:00,  1.88s/it]\n"
     ]
    },
    {
     "name": "stdout",
     "output_type": "stream",
     "text": [
      "Epoch 1/50, Loss: 1.6499157135303204, Train Acc: 0.8957553058676654, Val Acc: 0.7110552763819096\n",
      "\n"
     ]
    },
    {
     "name": "stderr",
     "output_type": "stream",
     "text": [
      "Train Batches: 100%|██████████| 26/26 [01:00<00:00,  2.32s/it]\n",
      "Val Batches: 100%|██████████| 4/4 [00:07<00:00,  1.88s/it]\n"
     ]
    },
    {
     "name": "stdout",
     "output_type": "stream",
     "text": [
      "Epoch 2/50, Loss: 1.2202240549601042, Train Acc: 0.968789013732834, Val Acc: 0.7311557788944724\n",
      "\n"
     ]
    },
    {
     "name": "stderr",
     "output_type": "stream",
     "text": [
      "Train Batches: 100%|██████████| 26/26 [01:00<00:00,  2.31s/it]\n",
      "Val Batches: 100%|██████████| 4/4 [00:07<00:00,  1.88s/it]\n"
     ]
    },
    {
     "name": "stdout",
     "output_type": "stream",
     "text": [
      "Epoch 3/50, Loss: 1.1048855414757361, Train Acc: 0.980649188514357, Val Acc: 0.7261306532663316\n",
      "\n"
     ]
    },
    {
     "name": "stderr",
     "output_type": "stream",
     "text": [
      "Train Batches: 100%|██████████| 26/26 [01:00<00:00,  2.31s/it]\n",
      "Val Batches: 100%|██████████| 4/4 [00:07<00:00,  1.88s/it]\n"
     ]
    },
    {
     "name": "stdout",
     "output_type": "stream",
     "text": [
      "Epoch 4/50, Loss: 1.0942373780103831, Train Acc: 0.9778401997503121, Val Acc: 0.7361809045226131\n",
      "\n"
     ]
    },
    {
     "name": "stderr",
     "output_type": "stream",
     "text": [
      "Train Batches: 100%|██████████| 26/26 [01:00<00:00,  2.32s/it]\n",
      "Val Batches: 100%|██████████| 4/4 [00:07<00:00,  1.88s/it]\n"
     ]
    },
    {
     "name": "stdout",
     "output_type": "stream",
     "text": [
      "Epoch 5/50, Loss: 1.0874333198253925, Train Acc: 0.9809612983770287, Val Acc: 0.7437185929648241\n",
      "\n"
     ]
    },
    {
     "name": "stderr",
     "output_type": "stream",
     "text": [
      "Train Batches: 100%|██████████| 26/26 [01:00<00:00,  2.31s/it]\n",
      "Val Batches: 100%|██████████| 4/4 [00:07<00:00,  1.84s/it]\n"
     ]
    },
    {
     "name": "stdout",
     "output_type": "stream",
     "text": [
      "Epoch 6/50, Loss: 1.0764143054301922, Train Acc: 0.9759675405742821, Val Acc: 0.7412060301507538\n",
      "\n"
     ]
    },
    {
     "name": "stderr",
     "output_type": "stream",
     "text": [
      "Train Batches:  50%|█████     | 13/26 [00:31<00:31,  2.40s/it]\n"
     ]
    },
    {
     "ename": "KeyboardInterrupt",
     "evalue": "",
     "output_type": "error",
     "traceback": [
      "\u001b[1;31m---------------------------------------------------------------------------\u001b[0m",
      "\u001b[1;31mKeyboardInterrupt\u001b[0m                         Traceback (most recent call last)",
      "Cell \u001b[1;32mIn[11], line 43\u001b[0m\n\u001b[0;32m     41\u001b[0m train_correct \u001b[38;5;241m=\u001b[39m \u001b[38;5;241m0\u001b[39m\n\u001b[0;32m     42\u001b[0m total_loss \u001b[38;5;241m=\u001b[39m \u001b[38;5;241m0\u001b[39m\n\u001b[1;32m---> 43\u001b[0m \u001b[43m\u001b[49m\u001b[38;5;28;43;01mfor\u001b[39;49;00m\u001b[43m \u001b[49m\u001b[43mbatch\u001b[49m\u001b[43m \u001b[49m\u001b[38;5;129;43;01min\u001b[39;49;00m\u001b[43m \u001b[49m\u001b[43mtqdm\u001b[49m\u001b[43m(\u001b[49m\u001b[43mtrain_data_loader\u001b[49m\u001b[43m,\u001b[49m\u001b[43m \u001b[49m\u001b[43mdesc\u001b[49m\u001b[38;5;241;43m=\u001b[39;49m\u001b[38;5;124;43m\"\u001b[39;49m\u001b[38;5;124;43mTrain Batches\u001b[39;49m\u001b[38;5;124;43m\"\u001b[39;49m\u001b[43m)\u001b[49m\u001b[43m:\u001b[49m\n\u001b[0;32m     44\u001b[0m \u001b[43m    \u001b[49m\u001b[43maudio\u001b[49m\u001b[43m \u001b[49m\u001b[38;5;241;43m=\u001b[39;49m\u001b[43m \u001b[49m\u001b[43mbatch\u001b[49m\u001b[43m[\u001b[49m\u001b[38;5;241;43m0\u001b[39;49m\u001b[43m]\u001b[49m\n\u001b[0;32m     45\u001b[0m \u001b[43m    \u001b[49m\u001b[43mtrain_labels\u001b[49m\u001b[43m \u001b[49m\u001b[38;5;241;43m=\u001b[39;49m\u001b[43m \u001b[49m\u001b[38;5;28;43mlist\u001b[39;49m\u001b[43m(\u001b[49m\u001b[43mbatch\u001b[49m\u001b[43m[\u001b[49m\u001b[38;5;241;43m1\u001b[39;49m\u001b[43m]\u001b[49m\u001b[43m)\u001b[49m\n",
      "File \u001b[1;32mc:\\Users\\amitmils\\Documents\\Repo\\Text2BGAudio\\.venv\\Lib\\site-packages\\tqdm\\std.py:1181\u001b[0m, in \u001b[0;36mtqdm.__iter__\u001b[1;34m(self)\u001b[0m\n\u001b[0;32m   1178\u001b[0m time \u001b[38;5;241m=\u001b[39m \u001b[38;5;28mself\u001b[39m\u001b[38;5;241m.\u001b[39m_time\n\u001b[0;32m   1180\u001b[0m \u001b[38;5;28;01mtry\u001b[39;00m:\n\u001b[1;32m-> 1181\u001b[0m \u001b[43m    \u001b[49m\u001b[38;5;28;43;01mfor\u001b[39;49;00m\u001b[43m \u001b[49m\u001b[43mobj\u001b[49m\u001b[43m \u001b[49m\u001b[38;5;129;43;01min\u001b[39;49;00m\u001b[43m \u001b[49m\u001b[43miterable\u001b[49m\u001b[43m:\u001b[49m\n\u001b[0;32m   1182\u001b[0m \u001b[43m        \u001b[49m\u001b[38;5;28;43;01myield\u001b[39;49;00m\u001b[43m \u001b[49m\u001b[43mobj\u001b[49m\n\u001b[0;32m   1183\u001b[0m \u001b[43m        \u001b[49m\u001b[38;5;66;43;03m# Update and possibly print the progressbar.\u001b[39;49;00m\n\u001b[0;32m   1184\u001b[0m \u001b[43m        \u001b[49m\u001b[38;5;66;43;03m# Note: does not call self.update(1) for speed optimisation.\u001b[39;49;00m\n",
      "File \u001b[1;32mc:\\Users\\amitmils\\Documents\\Repo\\Text2BGAudio\\.venv\\Lib\\site-packages\\torch\\utils\\data\\dataloader.py:701\u001b[0m, in \u001b[0;36m_BaseDataLoaderIter.__next__\u001b[1;34m(self)\u001b[0m\n\u001b[0;32m    698\u001b[0m \u001b[38;5;28;01mif\u001b[39;00m \u001b[38;5;28mself\u001b[39m\u001b[38;5;241m.\u001b[39m_sampler_iter \u001b[38;5;129;01mis\u001b[39;00m \u001b[38;5;28;01mNone\u001b[39;00m:\n\u001b[0;32m    699\u001b[0m     \u001b[38;5;66;03m# TODO(https://github.com/pytorch/pytorch/issues/76750)\u001b[39;00m\n\u001b[0;32m    700\u001b[0m     \u001b[38;5;28mself\u001b[39m\u001b[38;5;241m.\u001b[39m_reset()  \u001b[38;5;66;03m# type: ignore[call-arg]\u001b[39;00m\n\u001b[1;32m--> 701\u001b[0m data \u001b[38;5;241m=\u001b[39m \u001b[38;5;28;43mself\u001b[39;49m\u001b[38;5;241;43m.\u001b[39;49m\u001b[43m_next_data\u001b[49m\u001b[43m(\u001b[49m\u001b[43m)\u001b[49m\n\u001b[0;32m    702\u001b[0m \u001b[38;5;28mself\u001b[39m\u001b[38;5;241m.\u001b[39m_num_yielded \u001b[38;5;241m+\u001b[39m\u001b[38;5;241m=\u001b[39m \u001b[38;5;241m1\u001b[39m\n\u001b[0;32m    703\u001b[0m \u001b[38;5;28;01mif\u001b[39;00m (\n\u001b[0;32m    704\u001b[0m     \u001b[38;5;28mself\u001b[39m\u001b[38;5;241m.\u001b[39m_dataset_kind \u001b[38;5;241m==\u001b[39m _DatasetKind\u001b[38;5;241m.\u001b[39mIterable\n\u001b[0;32m    705\u001b[0m     \u001b[38;5;129;01mand\u001b[39;00m \u001b[38;5;28mself\u001b[39m\u001b[38;5;241m.\u001b[39m_IterableDataset_len_called \u001b[38;5;129;01mis\u001b[39;00m \u001b[38;5;129;01mnot\u001b[39;00m \u001b[38;5;28;01mNone\u001b[39;00m\n\u001b[0;32m    706\u001b[0m     \u001b[38;5;129;01mand\u001b[39;00m \u001b[38;5;28mself\u001b[39m\u001b[38;5;241m.\u001b[39m_num_yielded \u001b[38;5;241m>\u001b[39m \u001b[38;5;28mself\u001b[39m\u001b[38;5;241m.\u001b[39m_IterableDataset_len_called\n\u001b[0;32m    707\u001b[0m ):\n",
      "File \u001b[1;32mc:\\Users\\amitmils\\Documents\\Repo\\Text2BGAudio\\.venv\\Lib\\site-packages\\torch\\utils\\data\\dataloader.py:757\u001b[0m, in \u001b[0;36m_SingleProcessDataLoaderIter._next_data\u001b[1;34m(self)\u001b[0m\n\u001b[0;32m    755\u001b[0m \u001b[38;5;28;01mdef\u001b[39;00m \u001b[38;5;21m_next_data\u001b[39m(\u001b[38;5;28mself\u001b[39m):\n\u001b[0;32m    756\u001b[0m     index \u001b[38;5;241m=\u001b[39m \u001b[38;5;28mself\u001b[39m\u001b[38;5;241m.\u001b[39m_next_index()  \u001b[38;5;66;03m# may raise StopIteration\u001b[39;00m\n\u001b[1;32m--> 757\u001b[0m     data \u001b[38;5;241m=\u001b[39m \u001b[38;5;28;43mself\u001b[39;49m\u001b[38;5;241;43m.\u001b[39;49m\u001b[43m_dataset_fetcher\u001b[49m\u001b[38;5;241;43m.\u001b[39;49m\u001b[43mfetch\u001b[49m\u001b[43m(\u001b[49m\u001b[43mindex\u001b[49m\u001b[43m)\u001b[49m  \u001b[38;5;66;03m# may raise StopIteration\u001b[39;00m\n\u001b[0;32m    758\u001b[0m     \u001b[38;5;28;01mif\u001b[39;00m \u001b[38;5;28mself\u001b[39m\u001b[38;5;241m.\u001b[39m_pin_memory:\n\u001b[0;32m    759\u001b[0m         data \u001b[38;5;241m=\u001b[39m _utils\u001b[38;5;241m.\u001b[39mpin_memory\u001b[38;5;241m.\u001b[39mpin_memory(data, \u001b[38;5;28mself\u001b[39m\u001b[38;5;241m.\u001b[39m_pin_memory_device)\n",
      "File \u001b[1;32mc:\\Users\\amitmils\\Documents\\Repo\\Text2BGAudio\\.venv\\Lib\\site-packages\\torch\\utils\\data\\_utils\\fetch.py:52\u001b[0m, in \u001b[0;36m_MapDatasetFetcher.fetch\u001b[1;34m(self, possibly_batched_index)\u001b[0m\n\u001b[0;32m     50\u001b[0m         data \u001b[38;5;241m=\u001b[39m \u001b[38;5;28mself\u001b[39m\u001b[38;5;241m.\u001b[39mdataset\u001b[38;5;241m.\u001b[39m__getitems__(possibly_batched_index)\n\u001b[0;32m     51\u001b[0m     \u001b[38;5;28;01melse\u001b[39;00m:\n\u001b[1;32m---> 52\u001b[0m         data \u001b[38;5;241m=\u001b[39m [\u001b[38;5;28;43mself\u001b[39;49m\u001b[38;5;241;43m.\u001b[39;49m\u001b[43mdataset\u001b[49m\u001b[43m[\u001b[49m\u001b[43midx\u001b[49m\u001b[43m]\u001b[49m \u001b[38;5;28;01mfor\u001b[39;00m idx \u001b[38;5;129;01min\u001b[39;00m possibly_batched_index]\n\u001b[0;32m     53\u001b[0m \u001b[38;5;28;01melse\u001b[39;00m:\n\u001b[0;32m     54\u001b[0m     data \u001b[38;5;241m=\u001b[39m \u001b[38;5;28mself\u001b[39m\u001b[38;5;241m.\u001b[39mdataset[possibly_batched_index]\n",
      "File \u001b[1;32mc:\\Users\\amitmils\\Documents\\Repo\\Text2BGAudio\\Dataset_Creation\\audio_dataset.py:41\u001b[0m, in \u001b[0;36mAudioDataset.__getitem__\u001b[1;34m(self, idx)\u001b[0m\n\u001b[0;32m     39\u001b[0m \u001b[38;5;28;01mdel\u001b[39;00m details[\u001b[38;5;124m'\u001b[39m\u001b[38;5;124mwaveform\u001b[39m\u001b[38;5;124m'\u001b[39m]\n\u001b[0;32m     40\u001b[0m \u001b[38;5;28;01mdel\u001b[39;00m details[\u001b[38;5;124m'\u001b[39m\u001b[38;5;124mlabel\u001b[39m\u001b[38;5;124m'\u001b[39m]\n\u001b[1;32m---> 41\u001b[0m resampler \u001b[38;5;241m=\u001b[39m \u001b[43mtorchaudio\u001b[49m\u001b[38;5;241;43m.\u001b[39;49m\u001b[43mtransforms\u001b[49m\u001b[38;5;241;43m.\u001b[39;49m\u001b[43mResample\u001b[49m\u001b[43m(\u001b[49m\u001b[43morig_freq\u001b[49m\u001b[38;5;241;43m=\u001b[39;49m\u001b[38;5;28;43mself\u001b[39;49m\u001b[38;5;241;43m.\u001b[39;49m\u001b[43mdata\u001b[49m\u001b[43m[\u001b[49m\u001b[43midx\u001b[49m\u001b[43m]\u001b[49m\u001b[38;5;241;43m.\u001b[39;49m\u001b[43msr\u001b[49m\u001b[43m,\u001b[49m\u001b[43m \u001b[49m\u001b[43mnew_freq\u001b[49m\u001b[38;5;241;43m=\u001b[39;49m\u001b[38;5;241;43m48000\u001b[39;49m\u001b[43m)\u001b[49m\n\u001b[0;32m     42\u001b[0m waveform \u001b[38;5;241m=\u001b[39m resampler(torch\u001b[38;5;241m.\u001b[39mtensor(\u001b[38;5;28mself\u001b[39m\u001b[38;5;241m.\u001b[39mdata[idx]\u001b[38;5;241m.\u001b[39mwaveform))\n\u001b[0;32m     43\u001b[0m \u001b[38;5;28;01mreturn\u001b[39;00m waveform, \u001b[38;5;28mself\u001b[39m\u001b[38;5;241m.\u001b[39mdata[idx]\u001b[38;5;241m.\u001b[39mlabel, details\n",
      "File \u001b[1;32mc:\\Users\\amitmils\\Documents\\Repo\\Text2BGAudio\\.venv\\Lib\\site-packages\\torchaudio\\transforms\\_transforms.py:957\u001b[0m, in \u001b[0;36mResample.__init__\u001b[1;34m(self, orig_freq, new_freq, resampling_method, lowpass_filter_width, rolloff, beta, dtype)\u001b[0m\n\u001b[0;32m    954\u001b[0m \u001b[38;5;28mself\u001b[39m\u001b[38;5;241m.\u001b[39mbeta \u001b[38;5;241m=\u001b[39m beta\n\u001b[0;32m    956\u001b[0m \u001b[38;5;28;01mif\u001b[39;00m \u001b[38;5;28mself\u001b[39m\u001b[38;5;241m.\u001b[39morig_freq \u001b[38;5;241m!=\u001b[39m \u001b[38;5;28mself\u001b[39m\u001b[38;5;241m.\u001b[39mnew_freq:\n\u001b[1;32m--> 957\u001b[0m     kernel, \u001b[38;5;28mself\u001b[39m\u001b[38;5;241m.\u001b[39mwidth \u001b[38;5;241m=\u001b[39m \u001b[43m_get_sinc_resample_kernel\u001b[49m\u001b[43m(\u001b[49m\n\u001b[0;32m    958\u001b[0m \u001b[43m        \u001b[49m\u001b[38;5;28;43mself\u001b[39;49m\u001b[38;5;241;43m.\u001b[39;49m\u001b[43morig_freq\u001b[49m\u001b[43m,\u001b[49m\n\u001b[0;32m    959\u001b[0m \u001b[43m        \u001b[49m\u001b[38;5;28;43mself\u001b[39;49m\u001b[38;5;241;43m.\u001b[39;49m\u001b[43mnew_freq\u001b[49m\u001b[43m,\u001b[49m\n\u001b[0;32m    960\u001b[0m \u001b[43m        \u001b[49m\u001b[38;5;28;43mself\u001b[39;49m\u001b[38;5;241;43m.\u001b[39;49m\u001b[43mgcd\u001b[49m\u001b[43m,\u001b[49m\n\u001b[0;32m    961\u001b[0m \u001b[43m        \u001b[49m\u001b[38;5;28;43mself\u001b[39;49m\u001b[38;5;241;43m.\u001b[39;49m\u001b[43mlowpass_filter_width\u001b[49m\u001b[43m,\u001b[49m\n\u001b[0;32m    962\u001b[0m \u001b[43m        \u001b[49m\u001b[38;5;28;43mself\u001b[39;49m\u001b[38;5;241;43m.\u001b[39;49m\u001b[43mrolloff\u001b[49m\u001b[43m,\u001b[49m\n\u001b[0;32m    963\u001b[0m \u001b[43m        \u001b[49m\u001b[38;5;28;43mself\u001b[39;49m\u001b[38;5;241;43m.\u001b[39;49m\u001b[43mresampling_method\u001b[49m\u001b[43m,\u001b[49m\n\u001b[0;32m    964\u001b[0m \u001b[43m        \u001b[49m\u001b[43mbeta\u001b[49m\u001b[43m,\u001b[49m\n\u001b[0;32m    965\u001b[0m \u001b[43m        \u001b[49m\u001b[43mdtype\u001b[49m\u001b[38;5;241;43m=\u001b[39;49m\u001b[43mdtype\u001b[49m\u001b[43m,\u001b[49m\n\u001b[0;32m    966\u001b[0m \u001b[43m    \u001b[49m\u001b[43m)\u001b[49m\n\u001b[0;32m    967\u001b[0m     \u001b[38;5;28mself\u001b[39m\u001b[38;5;241m.\u001b[39mregister_buffer(\u001b[38;5;124m\"\u001b[39m\u001b[38;5;124mkernel\u001b[39m\u001b[38;5;124m\"\u001b[39m, kernel)\n",
      "File \u001b[1;32mc:\\Users\\amitmils\\Documents\\Repo\\Text2BGAudio\\.venv\\Lib\\site-packages\\torchaudio\\functional\\functional.py:1426\u001b[0m, in \u001b[0;36m_get_sinc_resample_kernel\u001b[1;34m(orig_freq, new_freq, gcd, lowpass_filter_width, rolloff, resampling_method, beta, device, dtype)\u001b[0m\n\u001b[0;32m   1423\u001b[0m \u001b[38;5;66;03m# we do not use built in torch windows here as we need to evaluate the window\u001b[39;00m\n\u001b[0;32m   1424\u001b[0m \u001b[38;5;66;03m# at specific positions, not over a regular grid.\u001b[39;00m\n\u001b[0;32m   1425\u001b[0m \u001b[38;5;28;01mif\u001b[39;00m resampling_method \u001b[38;5;241m==\u001b[39m \u001b[38;5;124m\"\u001b[39m\u001b[38;5;124msinc_interp_hann\u001b[39m\u001b[38;5;124m\"\u001b[39m:\n\u001b[1;32m-> 1426\u001b[0m     window \u001b[38;5;241m=\u001b[39m \u001b[43mtorch\u001b[49m\u001b[38;5;241;43m.\u001b[39;49m\u001b[43mcos\u001b[49m\u001b[43m(\u001b[49m\u001b[43mt\u001b[49m\u001b[43m \u001b[49m\u001b[38;5;241;43m*\u001b[39;49m\u001b[43m \u001b[49m\u001b[43mmath\u001b[49m\u001b[38;5;241;43m.\u001b[39;49m\u001b[43mpi\u001b[49m\u001b[43m \u001b[49m\u001b[38;5;241;43m/\u001b[39;49m\u001b[43m \u001b[49m\u001b[43mlowpass_filter_width\u001b[49m\u001b[43m \u001b[49m\u001b[38;5;241;43m/\u001b[39;49m\u001b[43m \u001b[49m\u001b[38;5;241;43m2\u001b[39;49m\u001b[43m)\u001b[49m \u001b[38;5;241m*\u001b[39m\u001b[38;5;241m*\u001b[39m \u001b[38;5;241m2\u001b[39m\n\u001b[0;32m   1427\u001b[0m \u001b[38;5;28;01melse\u001b[39;00m:\n\u001b[0;32m   1428\u001b[0m     \u001b[38;5;66;03m# sinc_interp_kaiser\u001b[39;00m\n\u001b[0;32m   1429\u001b[0m     \u001b[38;5;28;01mif\u001b[39;00m beta \u001b[38;5;129;01mis\u001b[39;00m \u001b[38;5;28;01mNone\u001b[39;00m:\n",
      "\u001b[1;31mKeyboardInterrupt\u001b[0m: "
     ]
    }
   ],
   "source": [
    "\n",
    "# Load the model and processor\n",
    "clap_model_path = r\"CLAP\\models\\clap_fine_tunned_BatchSize_32_LR_1e-05_Epochs_400_VAL_LOSS_25.99.pt\"\n",
    "processor = ClapProcessor.from_pretrained(CLAP_ARCH)\n",
    "clap_model = ClapModel.from_pretrained(CLAP_ARCH).to(DEVICE)\n",
    "clap_model.load_state_dict(torch.load(clap_model_path, weights_only=False)['model_state_dict'])\n",
    "\n",
    "# Initialize the MLP head\n",
    "MLP_HEAD = MLPHead().to(DEVICE)\n",
    "for param in clap_model.parameters():\n",
    "    param.requires_grad = False\n",
    "# Unfreeze audio projection heads\n",
    "# for param in clap_model.audio_projection.parameters():\n",
    "#     param.requires_grad = True\n",
    "\n",
    "# Hyperparameters\n",
    "epochs = 50\n",
    "batch_size = 128\n",
    "\n",
    "# Data loaders\n",
    "train_data_loader = DataLoader(train_dataset, batch_size=batch_size, shuffle=True)\n",
    "val_data_loader = DataLoader(val_dataset, batch_size=batch_size, shuffle=True)\n",
    "\n",
    "# Optimizer\n",
    "optimizer = torch.optim.AdamW(\n",
    "    [\n",
    "        # {'params': clap_model.parameters(), 'lr': 1e-5},\n",
    "        {'params': MLP_HEAD.parameters(), 'lr': 1e-3}\n",
    "    ]\n",
    ")\n",
    "\n",
    "# Criterion\n",
    "criterion = torch.nn.CrossEntropyLoss()\n",
    "\n",
    "# Accuracy lists\n",
    "acc_list = {\"train\": [], \"val\": []}\n",
    "\n",
    "# Training loop\n",
    "for e in range(epochs):\n",
    "    clap_model.train()\n",
    "    MLP_HEAD.train()\n",
    "    train_correct = 0\n",
    "    total_loss = 0\n",
    "    for batch in tqdm(train_data_loader, desc=\"Train Batches\"):\n",
    "        audio = batch[0]\n",
    "        train_labels = list(batch[1])\n",
    "        unique_labels = train_labels[:1]  # Not needed for inference\n",
    "        inputs = processor(\n",
    "            text=unique_labels,\n",
    "            audios=audio.numpy(),\n",
    "            return_tensors=\"pt\",\n",
    "            sampling_rate=48000,\n",
    "            padding=True,\n",
    "        )\n",
    "        inputs = {k: v.to(DEVICE) for k, v in inputs.items()}\n",
    "        outputs = clap_model(**inputs)\n",
    "        audio_embeds = outputs.audio_embeds\n",
    "        outputs = MLP_HEAD(audio_embeds)\n",
    "        est_classification = torch.argmax(outputs, dim=1)\n",
    "        train_correct += torch.sum(est_classification == torch.tensor([label_to_index[label] for label in train_labels]).to(DEVICE)).item()\n",
    "        loss = criterion(outputs, torch.tensor([label_to_index[label] for label in train_labels]).to(DEVICE))\n",
    "        total_loss += loss.item()\n",
    "        optimizer.zero_grad()\n",
    "        loss.backward()\n",
    "        optimizer.step()\n",
    "    train_acc = train_correct / len(train_dataset)\n",
    "    acc_list['train'].append(train_acc)\n",
    "    \n",
    "    clap_model.eval()\n",
    "    MLP_HEAD.eval()\n",
    "    val_correct = 0\n",
    "    with torch.no_grad():\n",
    "        for batch in tqdm(val_data_loader,desc=\"Val Batches\"):\n",
    "            audio = batch[0]\n",
    "            val_labels = list(batch[1])\n",
    "            unique_labels = val_labels[:1]\n",
    "            inputs = processor(\n",
    "                text=unique_labels,\n",
    "                audios=audio.numpy(),\n",
    "                return_tensors=\"pt\",\n",
    "                sampling_rate=48000,\n",
    "                padding=True,\n",
    "            )\n",
    "            inputs = {k: v.to(DEVICE) for k, v in inputs.items()}\n",
    "            outputs = clap_model(**inputs)\n",
    "            audio_embeds = outputs.audio_embeds\n",
    "            outputs = MLP_HEAD(audio_embeds)\n",
    "            est_classification = torch.argmax(outputs, dim=1)\n",
    "            val_correct += torch.sum(est_classification == torch.tensor([label_to_index[label] for label in val_labels]).to(DEVICE)).item()\n",
    "    val_acc = val_correct / len(val_dataset)\n",
    "    acc_list['val'].append(val_acc)\n",
    "    \n",
    "    print(f\"Epoch {e+1}/{epochs}, Loss: {total_loss / len(train_data_loader)}, Train Acc: {train_acc}, Val Acc: {val_acc}\\n\")\n",
    "\n",
    "# Print final accuracies\n",
    "print(\"Final Training Accuracy:\", acc_list['train'][-1])\n",
    "print(\"Final Validation Accuracy:\", acc_list['val'][-1])"
   ]
  }
 ],
 "metadata": {
  "kernelspec": {
   "display_name": ".venv",
   "language": "python",
   "name": "python3"
  },
  "language_info": {
   "codemirror_mode": {
    "name": "ipython",
    "version": 3
   },
   "file_extension": ".py",
   "mimetype": "text/x-python",
   "name": "python",
   "nbconvert_exporter": "python",
   "pygments_lexer": "ipython3",
   "version": "3.12.8"
  }
 },
 "nbformat": 4,
 "nbformat_minor": 2
}
